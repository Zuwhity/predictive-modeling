{
  "nbformat": 4,
  "nbformat_minor": 0,
  "metadata": {
    "colab": {
      "provenance": []
    },
    "kernelspec": {
      "name": "python3",
      "display_name": "Python 3"
    },
    "language_info": {
      "name": "python"
    },
    "widgets": {
      "application/vnd.jupyter.widget-state+json": {
        "40b68d715128472f92fb6f80394ccd4c": {
          "model_module": "@jupyter-widgets/controls",
          "model_name": "HBoxModel",
          "model_module_version": "1.5.0",
          "state": {
            "_dom_classes": [],
            "_model_module": "@jupyter-widgets/controls",
            "_model_module_version": "1.5.0",
            "_model_name": "HBoxModel",
            "_view_count": null,
            "_view_module": "@jupyter-widgets/controls",
            "_view_module_version": "1.5.0",
            "_view_name": "HBoxView",
            "box_style": "",
            "children": [
              "IPY_MODEL_cceddef495fb4de3a7841def0505b705",
              "IPY_MODEL_b75abd79a3c3496392772f9b19e36908",
              "IPY_MODEL_a1adc38a698b437187cc6fe87a0895cb"
            ],
            "layout": "IPY_MODEL_e761112bc73246ca80a6380729bb356e"
          }
        },
        "cceddef495fb4de3a7841def0505b705": {
          "model_module": "@jupyter-widgets/controls",
          "model_name": "HTMLModel",
          "model_module_version": "1.5.0",
          "state": {
            "_dom_classes": [],
            "_model_module": "@jupyter-widgets/controls",
            "_model_module_version": "1.5.0",
            "_model_name": "HTMLModel",
            "_view_count": null,
            "_view_module": "@jupyter-widgets/controls",
            "_view_module_version": "1.5.0",
            "_view_name": "HTMLView",
            "description": "",
            "description_tooltip": null,
            "layout": "IPY_MODEL_a3de5837ef634b25bf5c04b0731d57bf",
            "placeholder": "​",
            "style": "IPY_MODEL_640b54d3b96a441eb233a7bd09956dfe",
            "value": "100%"
          }
        },
        "b75abd79a3c3496392772f9b19e36908": {
          "model_module": "@jupyter-widgets/controls",
          "model_name": "FloatProgressModel",
          "model_module_version": "1.5.0",
          "state": {
            "_dom_classes": [],
            "_model_module": "@jupyter-widgets/controls",
            "_model_module_version": "1.5.0",
            "_model_name": "FloatProgressModel",
            "_view_count": null,
            "_view_module": "@jupyter-widgets/controls",
            "_view_module_version": "1.5.0",
            "_view_name": "ProgressView",
            "bar_style": "success",
            "description": "",
            "description_tooltip": null,
            "layout": "IPY_MODEL_7a1cfa20b9ed47238b7e5cd5bd02e32d",
            "max": 1,
            "min": 0,
            "orientation": "horizontal",
            "style": "IPY_MODEL_67c50217df8b401a8754c2beadb8d161",
            "value": 1
          }
        },
        "a1adc38a698b437187cc6fe87a0895cb": {
          "model_module": "@jupyter-widgets/controls",
          "model_name": "HTMLModel",
          "model_module_version": "1.5.0",
          "state": {
            "_dom_classes": [],
            "_model_module": "@jupyter-widgets/controls",
            "_model_module_version": "1.5.0",
            "_model_name": "HTMLModel",
            "_view_count": null,
            "_view_module": "@jupyter-widgets/controls",
            "_view_module_version": "1.5.0",
            "_view_name": "HTMLView",
            "description": "",
            "description_tooltip": null,
            "layout": "IPY_MODEL_9d5a2876617241cd80a7003fa74d376e",
            "placeholder": "​",
            "style": "IPY_MODEL_ae4dc2c2aa80456d93872834ebac35f6",
            "value": " 1/1 [00:00&lt;00:00, 21.74it/s]"
          }
        },
        "e761112bc73246ca80a6380729bb356e": {
          "model_module": "@jupyter-widgets/base",
          "model_name": "LayoutModel",
          "model_module_version": "1.2.0",
          "state": {
            "_model_module": "@jupyter-widgets/base",
            "_model_module_version": "1.2.0",
            "_model_name": "LayoutModel",
            "_view_count": null,
            "_view_module": "@jupyter-widgets/base",
            "_view_module_version": "1.2.0",
            "_view_name": "LayoutView",
            "align_content": null,
            "align_items": null,
            "align_self": null,
            "border": null,
            "bottom": null,
            "display": null,
            "flex": null,
            "flex_flow": null,
            "grid_area": null,
            "grid_auto_columns": null,
            "grid_auto_flow": null,
            "grid_auto_rows": null,
            "grid_column": null,
            "grid_gap": null,
            "grid_row": null,
            "grid_template_areas": null,
            "grid_template_columns": null,
            "grid_template_rows": null,
            "height": null,
            "justify_content": null,
            "justify_items": null,
            "left": null,
            "margin": null,
            "max_height": null,
            "max_width": null,
            "min_height": null,
            "min_width": null,
            "object_fit": null,
            "object_position": null,
            "order": null,
            "overflow": null,
            "overflow_x": null,
            "overflow_y": null,
            "padding": null,
            "right": null,
            "top": null,
            "visibility": null,
            "width": null
          }
        },
        "a3de5837ef634b25bf5c04b0731d57bf": {
          "model_module": "@jupyter-widgets/base",
          "model_name": "LayoutModel",
          "model_module_version": "1.2.0",
          "state": {
            "_model_module": "@jupyter-widgets/base",
            "_model_module_version": "1.2.0",
            "_model_name": "LayoutModel",
            "_view_count": null,
            "_view_module": "@jupyter-widgets/base",
            "_view_module_version": "1.2.0",
            "_view_name": "LayoutView",
            "align_content": null,
            "align_items": null,
            "align_self": null,
            "border": null,
            "bottom": null,
            "display": null,
            "flex": null,
            "flex_flow": null,
            "grid_area": null,
            "grid_auto_columns": null,
            "grid_auto_flow": null,
            "grid_auto_rows": null,
            "grid_column": null,
            "grid_gap": null,
            "grid_row": null,
            "grid_template_areas": null,
            "grid_template_columns": null,
            "grid_template_rows": null,
            "height": null,
            "justify_content": null,
            "justify_items": null,
            "left": null,
            "margin": null,
            "max_height": null,
            "max_width": null,
            "min_height": null,
            "min_width": null,
            "object_fit": null,
            "object_position": null,
            "order": null,
            "overflow": null,
            "overflow_x": null,
            "overflow_y": null,
            "padding": null,
            "right": null,
            "top": null,
            "visibility": null,
            "width": null
          }
        },
        "640b54d3b96a441eb233a7bd09956dfe": {
          "model_module": "@jupyter-widgets/controls",
          "model_name": "DescriptionStyleModel",
          "model_module_version": "1.5.0",
          "state": {
            "_model_module": "@jupyter-widgets/controls",
            "_model_module_version": "1.5.0",
            "_model_name": "DescriptionStyleModel",
            "_view_count": null,
            "_view_module": "@jupyter-widgets/base",
            "_view_module_version": "1.2.0",
            "_view_name": "StyleView",
            "description_width": ""
          }
        },
        "7a1cfa20b9ed47238b7e5cd5bd02e32d": {
          "model_module": "@jupyter-widgets/base",
          "model_name": "LayoutModel",
          "model_module_version": "1.2.0",
          "state": {
            "_model_module": "@jupyter-widgets/base",
            "_model_module_version": "1.2.0",
            "_model_name": "LayoutModel",
            "_view_count": null,
            "_view_module": "@jupyter-widgets/base",
            "_view_module_version": "1.2.0",
            "_view_name": "LayoutView",
            "align_content": null,
            "align_items": null,
            "align_self": null,
            "border": null,
            "bottom": null,
            "display": null,
            "flex": null,
            "flex_flow": null,
            "grid_area": null,
            "grid_auto_columns": null,
            "grid_auto_flow": null,
            "grid_auto_rows": null,
            "grid_column": null,
            "grid_gap": null,
            "grid_row": null,
            "grid_template_areas": null,
            "grid_template_columns": null,
            "grid_template_rows": null,
            "height": null,
            "justify_content": null,
            "justify_items": null,
            "left": null,
            "margin": null,
            "max_height": null,
            "max_width": null,
            "min_height": null,
            "min_width": null,
            "object_fit": null,
            "object_position": null,
            "order": null,
            "overflow": null,
            "overflow_x": null,
            "overflow_y": null,
            "padding": null,
            "right": null,
            "top": null,
            "visibility": null,
            "width": null
          }
        },
        "67c50217df8b401a8754c2beadb8d161": {
          "model_module": "@jupyter-widgets/controls",
          "model_name": "ProgressStyleModel",
          "model_module_version": "1.5.0",
          "state": {
            "_model_module": "@jupyter-widgets/controls",
            "_model_module_version": "1.5.0",
            "_model_name": "ProgressStyleModel",
            "_view_count": null,
            "_view_module": "@jupyter-widgets/base",
            "_view_module_version": "1.2.0",
            "_view_name": "StyleView",
            "bar_color": null,
            "description_width": ""
          }
        },
        "9d5a2876617241cd80a7003fa74d376e": {
          "model_module": "@jupyter-widgets/base",
          "model_name": "LayoutModel",
          "model_module_version": "1.2.0",
          "state": {
            "_model_module": "@jupyter-widgets/base",
            "_model_module_version": "1.2.0",
            "_model_name": "LayoutModel",
            "_view_count": null,
            "_view_module": "@jupyter-widgets/base",
            "_view_module_version": "1.2.0",
            "_view_name": "LayoutView",
            "align_content": null,
            "align_items": null,
            "align_self": null,
            "border": null,
            "bottom": null,
            "display": null,
            "flex": null,
            "flex_flow": null,
            "grid_area": null,
            "grid_auto_columns": null,
            "grid_auto_flow": null,
            "grid_auto_rows": null,
            "grid_column": null,
            "grid_gap": null,
            "grid_row": null,
            "grid_template_areas": null,
            "grid_template_columns": null,
            "grid_template_rows": null,
            "height": null,
            "justify_content": null,
            "justify_items": null,
            "left": null,
            "margin": null,
            "max_height": null,
            "max_width": null,
            "min_height": null,
            "min_width": null,
            "object_fit": null,
            "object_position": null,
            "order": null,
            "overflow": null,
            "overflow_x": null,
            "overflow_y": null,
            "padding": null,
            "right": null,
            "top": null,
            "visibility": null,
            "width": null
          }
        },
        "ae4dc2c2aa80456d93872834ebac35f6": {
          "model_module": "@jupyter-widgets/controls",
          "model_name": "DescriptionStyleModel",
          "model_module_version": "1.5.0",
          "state": {
            "_model_module": "@jupyter-widgets/controls",
            "_model_module_version": "1.5.0",
            "_model_name": "DescriptionStyleModel",
            "_view_count": null,
            "_view_module": "@jupyter-widgets/base",
            "_view_module_version": "1.2.0",
            "_view_name": "StyleView",
            "description_width": ""
          }
        }
      }
    }
  },
  "cells": [
    {
      "cell_type": "code",
      "execution_count": 1,
      "metadata": {
        "id": "KJ-SrMz5hAhP",
        "colab": {
          "base_uri": "https://localhost:8080/"
        },
        "outputId": "b1b9c9ba-4cba-4424-9e6f-49424b92fd8b"
      },
      "outputs": [
        {
          "output_type": "stream",
          "name": "stdout",
          "text": [
            "2.9.2\n"
          ]
        }
      ],
      "source": [
        "from sklearn.model_selection import train_test_split\n",
        "import tensorflow as tf\n",
        "from tensorflow import keras\n",
        "import tensorflow_datasets as tfds\n",
        "import pandas as pd\n",
        "import numpy as np\n",
        "%matplotlib inline\n",
        "import matplotlib as mpl\n",
        "import matplotlib.cm as cm\n",
        "import matplotlib.pyplot as plt\n",
        "import seaborn as sns\n",
        "from keras.utils import plot_model\n",
        "import os\n",
        "print(tf.__version__)\n",
        "#!pip install -q tensorflow-datasets\n",
        "from sklearn.model_selection import train_test_split\n",
        "from sklearn.datasets import make_moons\n",
        "from sklearn.ensemble import RandomForestClassifier\n",
        "from sklearn.linear_model import LogisticRegression\n",
        "from sklearn.svm import SVC\n",
        "from sklearn.ensemble import ExtraTreesClassifier\n",
        "from sklearn.ensemble import VotingClassifier\n",
        "from sklearn.metrics import accuracy_score\n",
        "from tensorflow.keras.preprocessing.text import Tokenizer\n",
        "from tensorflow.keras.preprocessing.sequence import pad_sequences\n",
        "from keras.layers import Dense, Activation, Embedding, Flatten, GlobalMaxPool1D, Dropout, Conv1D\n",
        "from keras.callbacks import ReduceLROnPlateau, EarlyStopping, ModelCheckpoint"
      ]
    },
    {
      "cell_type": "markdown",
      "source": [
        "website i used to help me :\n",
        "-  https://mlhive.com/2021/05/emotion-classification-from-text-using-tensorflow-2\n",
        "\n",
        "-  https://paperswithcode.com/dataset/goemotions\n",
        "\n",
        "-  https://thedigitalskye.com/2021/04/19/6-useful-metrics-to-evaluate-binary-classification-models/\n",
        "\n",
        "-  https://ai.googleblog.com/2021/10/goemotions-dataset-for-fine-grained.html\n",
        "\n",
        "-  https://keras.io/api/layers/recurrent_layers/bidirectional/\n",
        "\n",
        "-  https://inside-machinelearning.com/en/efficient-sentences-embedding-visualization-tsne/#Preparing_the_data_-_GoEmotions"
      ],
      "metadata": {
        "id": "zmFihwAVSGPe"
      }
    },
    {
      "cell_type": "code",
      "source": [
        "vocab_size = 10000  #number of unique words\n",
        "embedding_dim = 16\n",
        "max_length = 80\n",
        "trunc_type='post'\n",
        "padding_type='post'\n",
        "oov_tok = \"\"\n",
        "training_size = 180000"
      ],
      "metadata": {
        "id": "tX0UTpuONiqV"
      },
      "execution_count": 62,
      "outputs": []
    },
    {
      "cell_type": "code",
      "source": [
        "try:\n",
        "    from unidecode import unidecode\n",
        "except ModuleNotFoundError:\n",
        "    !pip install unidecode\n",
        "    from unidecode import unidecode"
      ],
      "metadata": {
        "id": "BEm03SmzNoJW"
      },
      "execution_count": 63,
      "outputs": []
    },
    {
      "cell_type": "code",
      "source": [
        "try:\n",
        "    import datasets\n",
        "except ModuleNotFoundError:\n",
        "    !pip install datasets\n",
        "    import datasets"
      ],
      "metadata": {
        "id": "1gT-OFPeNuAk"
      },
      "execution_count": 64,
      "outputs": []
    },
    {
      "cell_type": "code",
      "source": [
        "\n",
        "from datasets import load_dataset\n",
        "\n",
        "\n",
        "dataset = load_dataset('go_emotions','raw')\n",
        "emotions = [\n",
        " 'admiration',\n",
        " 'amusement',\n",
        " 'anger',\n",
        " 'annoyance',\n",
        " 'approval',\n",
        " 'caring',\n",
        " 'confusion',\n",
        " 'curiosity',\n",
        " 'desire',\n",
        " 'disappointment',\n",
        " 'disapproval',\n",
        " 'disgust',\n",
        " 'embarrassment',\n",
        " 'excitement',\n",
        " 'fear',\n",
        " 'gratitude',\n",
        " 'grief',\n",
        " 'joy',\n",
        " 'love',\n",
        " 'nervousness',\n",
        " 'optimism',\n",
        " 'pride',\n",
        " 'realization',\n",
        " 'relief',\n",
        " 'remorse',\n",
        " 'sadness',\n",
        " 'surprise',\n",
        " 'neutral']  "
      ],
      "metadata": {
        "colab": {
          "base_uri": "https://localhost:8080/",
          "height": 66,
          "referenced_widgets": [
            "40b68d715128472f92fb6f80394ccd4c",
            "cceddef495fb4de3a7841def0505b705",
            "b75abd79a3c3496392772f9b19e36908",
            "a1adc38a698b437187cc6fe87a0895cb",
            "e761112bc73246ca80a6380729bb356e",
            "a3de5837ef634b25bf5c04b0731d57bf",
            "640b54d3b96a441eb233a7bd09956dfe",
            "7a1cfa20b9ed47238b7e5cd5bd02e32d",
            "67c50217df8b401a8754c2beadb8d161",
            "9d5a2876617241cd80a7003fa74d376e",
            "ae4dc2c2aa80456d93872834ebac35f6"
          ]
        },
        "id": "nFqKFDPpNzGq",
        "outputId": "5a3804e6-c244-4bef-9e0f-1fedd11ccfb1"
      },
      "execution_count": 65,
      "outputs": [
        {
          "output_type": "stream",
          "name": "stderr",
          "text": [
            "WARNING:datasets.builder:Found cached dataset go_emotions (/root/.cache/huggingface/datasets/go_emotions/raw/0.0.0/2637cfdd4e64d30249c3ed2150fa2b9d279766bfcd6a809b9f085c61a90d776d)\n"
          ]
        },
        {
          "output_type": "display_data",
          "data": {
            "text/plain": [
              "  0%|          | 0/1 [00:00<?, ?it/s]"
            ],
            "application/vnd.jupyter.widget-view+json": {
              "version_major": 2,
              "version_minor": 0,
              "model_id": "40b68d715128472f92fb6f80394ccd4c"
            }
          },
          "metadata": {}
        }
      ]
    },
    {
      "cell_type": "code",
      "source": [
        "id_label = {str(i):label for i, label in enumerate(emotions)}\n",
        "label_id = {label:str(i) for i, label in enumerate(emotions)}\n",
        "\n",
        "id_label"
      ],
      "metadata": {
        "colab": {
          "base_uri": "https://localhost:8080/"
        },
        "id": "DvuF1H6ZOiYZ",
        "outputId": "4dfdff1b-f110-49cf-a008-d2a3422b51b4"
      },
      "execution_count": 66,
      "outputs": [
        {
          "output_type": "execute_result",
          "data": {
            "text/plain": [
              "{'0': 'admiration',\n",
              " '1': 'amusement',\n",
              " '2': 'anger',\n",
              " '3': 'annoyance',\n",
              " '4': 'approval',\n",
              " '5': 'caring',\n",
              " '6': 'confusion',\n",
              " '7': 'curiosity',\n",
              " '8': 'desire',\n",
              " '9': 'disappointment',\n",
              " '10': 'disapproval',\n",
              " '11': 'disgust',\n",
              " '12': 'embarrassment',\n",
              " '13': 'excitement',\n",
              " '14': 'fear',\n",
              " '15': 'gratitude',\n",
              " '16': 'grief',\n",
              " '17': 'joy',\n",
              " '18': 'love',\n",
              " '19': 'nervousness',\n",
              " '20': 'optimism',\n",
              " '21': 'pride',\n",
              " '22': 'realization',\n",
              " '23': 'relief',\n",
              " '24': 'remorse',\n",
              " '25': 'sadness',\n",
              " '26': 'surprise',\n",
              " '27': 'neutral'}"
            ]
          },
          "metadata": {},
          "execution_count": 66
        }
      ]
    },
    {
      "cell_type": "code",
      "source": [
        "df_train=pd.DataFrame.from_dict(dataset[\"train\"])"
      ],
      "metadata": {
        "id": "l4qko8c2OkKM"
      },
      "execution_count": 67,
      "outputs": []
    },
    {
      "cell_type": "code",
      "source": [
        "df_train.head()"
      ],
      "metadata": {
        "colab": {
          "base_uri": "https://localhost:8080/",
          "height": 629
        },
        "id": "z8PwA8JZO3cp",
        "outputId": "51a0eecc-106b-44b2-b381-bbbc94aca925"
      },
      "execution_count": 68,
      "outputs": [
        {
          "output_type": "execute_result",
          "data": {
            "text/plain": [
              "                                                text       id  \\\n",
              "0                                    That game hurt.  eew5j0j   \n",
              "1   >sexuality shouldn’t be a grouping category I...  eemcysk   \n",
              "2     You do right, if you don't care then fuck 'em!  ed2mah1   \n",
              "3                                 Man I love reddit.  eeibobj   \n",
              "4  [NAME] was nowhere near them, he was by the Fa...  eda6yn6   \n",
              "\n",
              "                author            subreddit    link_id   parent_id  \\\n",
              "0                Brdd9                  nrl  t3_ajis4z  t1_eew18eq   \n",
              "1          TheGreen888     unpopularopinion  t3_ai4q37   t3_ai4q37   \n",
              "2             Labalool          confessions  t3_abru74  t1_ed2m7g7   \n",
              "3        MrsRobertshaw             facepalm  t3_ahulml   t3_ahulml   \n",
              "4  American_Fascist713  starwarsspeculation  t3_ackt2f  t1_eda65q2   \n",
              "\n",
              "    created_utc  rater_id  example_very_unclear  admiration  ...  love  \\\n",
              "0  1.548381e+09         1                 False           0  ...     0   \n",
              "1  1.548084e+09        37                 False           0  ...     0   \n",
              "2  1.546428e+09        37                 False           0  ...     0   \n",
              "3  1.547965e+09        18                 False           0  ...     1   \n",
              "4  1.546669e+09         2                 False           0  ...     0   \n",
              "\n",
              "   nervousness  optimism  pride  realization  relief  remorse  sadness  \\\n",
              "0            0         0      0            0       0        0        1   \n",
              "1            0         0      0            0       0        0        0   \n",
              "2            0         0      0            0       0        0        0   \n",
              "3            0         0      0            0       0        0        0   \n",
              "4            0         0      0            0       0        0        0   \n",
              "\n",
              "   surprise  neutral  \n",
              "0         0        0  \n",
              "1         0        0  \n",
              "2         0        1  \n",
              "3         0        0  \n",
              "4         0        1  \n",
              "\n",
              "[5 rows x 37 columns]"
            ],
            "text/html": [
              "\n",
              "  <div id=\"df-1430a59a-0e1a-47a4-bdeb-8ff15db643f8\">\n",
              "    <div class=\"colab-df-container\">\n",
              "      <div>\n",
              "<style scoped>\n",
              "    .dataframe tbody tr th:only-of-type {\n",
              "        vertical-align: middle;\n",
              "    }\n",
              "\n",
              "    .dataframe tbody tr th {\n",
              "        vertical-align: top;\n",
              "    }\n",
              "\n",
              "    .dataframe thead th {\n",
              "        text-align: right;\n",
              "    }\n",
              "</style>\n",
              "<table border=\"1\" class=\"dataframe\">\n",
              "  <thead>\n",
              "    <tr style=\"text-align: right;\">\n",
              "      <th></th>\n",
              "      <th>text</th>\n",
              "      <th>id</th>\n",
              "      <th>author</th>\n",
              "      <th>subreddit</th>\n",
              "      <th>link_id</th>\n",
              "      <th>parent_id</th>\n",
              "      <th>created_utc</th>\n",
              "      <th>rater_id</th>\n",
              "      <th>example_very_unclear</th>\n",
              "      <th>admiration</th>\n",
              "      <th>...</th>\n",
              "      <th>love</th>\n",
              "      <th>nervousness</th>\n",
              "      <th>optimism</th>\n",
              "      <th>pride</th>\n",
              "      <th>realization</th>\n",
              "      <th>relief</th>\n",
              "      <th>remorse</th>\n",
              "      <th>sadness</th>\n",
              "      <th>surprise</th>\n",
              "      <th>neutral</th>\n",
              "    </tr>\n",
              "  </thead>\n",
              "  <tbody>\n",
              "    <tr>\n",
              "      <th>0</th>\n",
              "      <td>That game hurt.</td>\n",
              "      <td>eew5j0j</td>\n",
              "      <td>Brdd9</td>\n",
              "      <td>nrl</td>\n",
              "      <td>t3_ajis4z</td>\n",
              "      <td>t1_eew18eq</td>\n",
              "      <td>1.548381e+09</td>\n",
              "      <td>1</td>\n",
              "      <td>False</td>\n",
              "      <td>0</td>\n",
              "      <td>...</td>\n",
              "      <td>0</td>\n",
              "      <td>0</td>\n",
              "      <td>0</td>\n",
              "      <td>0</td>\n",
              "      <td>0</td>\n",
              "      <td>0</td>\n",
              "      <td>0</td>\n",
              "      <td>1</td>\n",
              "      <td>0</td>\n",
              "      <td>0</td>\n",
              "    </tr>\n",
              "    <tr>\n",
              "      <th>1</th>\n",
              "      <td>&gt;sexuality shouldn’t be a grouping category I...</td>\n",
              "      <td>eemcysk</td>\n",
              "      <td>TheGreen888</td>\n",
              "      <td>unpopularopinion</td>\n",
              "      <td>t3_ai4q37</td>\n",
              "      <td>t3_ai4q37</td>\n",
              "      <td>1.548084e+09</td>\n",
              "      <td>37</td>\n",
              "      <td>False</td>\n",
              "      <td>0</td>\n",
              "      <td>...</td>\n",
              "      <td>0</td>\n",
              "      <td>0</td>\n",
              "      <td>0</td>\n",
              "      <td>0</td>\n",
              "      <td>0</td>\n",
              "      <td>0</td>\n",
              "      <td>0</td>\n",
              "      <td>0</td>\n",
              "      <td>0</td>\n",
              "      <td>0</td>\n",
              "    </tr>\n",
              "    <tr>\n",
              "      <th>2</th>\n",
              "      <td>You do right, if you don't care then fuck 'em!</td>\n",
              "      <td>ed2mah1</td>\n",
              "      <td>Labalool</td>\n",
              "      <td>confessions</td>\n",
              "      <td>t3_abru74</td>\n",
              "      <td>t1_ed2m7g7</td>\n",
              "      <td>1.546428e+09</td>\n",
              "      <td>37</td>\n",
              "      <td>False</td>\n",
              "      <td>0</td>\n",
              "      <td>...</td>\n",
              "      <td>0</td>\n",
              "      <td>0</td>\n",
              "      <td>0</td>\n",
              "      <td>0</td>\n",
              "      <td>0</td>\n",
              "      <td>0</td>\n",
              "      <td>0</td>\n",
              "      <td>0</td>\n",
              "      <td>0</td>\n",
              "      <td>1</td>\n",
              "    </tr>\n",
              "    <tr>\n",
              "      <th>3</th>\n",
              "      <td>Man I love reddit.</td>\n",
              "      <td>eeibobj</td>\n",
              "      <td>MrsRobertshaw</td>\n",
              "      <td>facepalm</td>\n",
              "      <td>t3_ahulml</td>\n",
              "      <td>t3_ahulml</td>\n",
              "      <td>1.547965e+09</td>\n",
              "      <td>18</td>\n",
              "      <td>False</td>\n",
              "      <td>0</td>\n",
              "      <td>...</td>\n",
              "      <td>1</td>\n",
              "      <td>0</td>\n",
              "      <td>0</td>\n",
              "      <td>0</td>\n",
              "      <td>0</td>\n",
              "      <td>0</td>\n",
              "      <td>0</td>\n",
              "      <td>0</td>\n",
              "      <td>0</td>\n",
              "      <td>0</td>\n",
              "    </tr>\n",
              "    <tr>\n",
              "      <th>4</th>\n",
              "      <td>[NAME] was nowhere near them, he was by the Fa...</td>\n",
              "      <td>eda6yn6</td>\n",
              "      <td>American_Fascist713</td>\n",
              "      <td>starwarsspeculation</td>\n",
              "      <td>t3_ackt2f</td>\n",
              "      <td>t1_eda65q2</td>\n",
              "      <td>1.546669e+09</td>\n",
              "      <td>2</td>\n",
              "      <td>False</td>\n",
              "      <td>0</td>\n",
              "      <td>...</td>\n",
              "      <td>0</td>\n",
              "      <td>0</td>\n",
              "      <td>0</td>\n",
              "      <td>0</td>\n",
              "      <td>0</td>\n",
              "      <td>0</td>\n",
              "      <td>0</td>\n",
              "      <td>0</td>\n",
              "      <td>0</td>\n",
              "      <td>1</td>\n",
              "    </tr>\n",
              "  </tbody>\n",
              "</table>\n",
              "<p>5 rows × 37 columns</p>\n",
              "</div>\n",
              "      <button class=\"colab-df-convert\" onclick=\"convertToInteractive('df-1430a59a-0e1a-47a4-bdeb-8ff15db643f8')\"\n",
              "              title=\"Convert this dataframe to an interactive table.\"\n",
              "              style=\"display:none;\">\n",
              "        \n",
              "  <svg xmlns=\"http://www.w3.org/2000/svg\" height=\"24px\"viewBox=\"0 0 24 24\"\n",
              "       width=\"24px\">\n",
              "    <path d=\"M0 0h24v24H0V0z\" fill=\"none\"/>\n",
              "    <path d=\"M18.56 5.44l.94 2.06.94-2.06 2.06-.94-2.06-.94-.94-2.06-.94 2.06-2.06.94zm-11 1L8.5 8.5l.94-2.06 2.06-.94-2.06-.94L8.5 2.5l-.94 2.06-2.06.94zm10 10l.94 2.06.94-2.06 2.06-.94-2.06-.94-.94-2.06-.94 2.06-2.06.94z\"/><path d=\"M17.41 7.96l-1.37-1.37c-.4-.4-.92-.59-1.43-.59-.52 0-1.04.2-1.43.59L10.3 9.45l-7.72 7.72c-.78.78-.78 2.05 0 2.83L4 21.41c.39.39.9.59 1.41.59.51 0 1.02-.2 1.41-.59l7.78-7.78 2.81-2.81c.8-.78.8-2.07 0-2.86zM5.41 20L4 18.59l7.72-7.72 1.47 1.35L5.41 20z\"/>\n",
              "  </svg>\n",
              "      </button>\n",
              "      \n",
              "  <style>\n",
              "    .colab-df-container {\n",
              "      display:flex;\n",
              "      flex-wrap:wrap;\n",
              "      gap: 12px;\n",
              "    }\n",
              "\n",
              "    .colab-df-convert {\n",
              "      background-color: #E8F0FE;\n",
              "      border: none;\n",
              "      border-radius: 50%;\n",
              "      cursor: pointer;\n",
              "      display: none;\n",
              "      fill: #1967D2;\n",
              "      height: 32px;\n",
              "      padding: 0 0 0 0;\n",
              "      width: 32px;\n",
              "    }\n",
              "\n",
              "    .colab-df-convert:hover {\n",
              "      background-color: #E2EBFA;\n",
              "      box-shadow: 0px 1px 2px rgba(60, 64, 67, 0.3), 0px 1px 3px 1px rgba(60, 64, 67, 0.15);\n",
              "      fill: #174EA6;\n",
              "    }\n",
              "\n",
              "    [theme=dark] .colab-df-convert {\n",
              "      background-color: #3B4455;\n",
              "      fill: #D2E3FC;\n",
              "    }\n",
              "\n",
              "    [theme=dark] .colab-df-convert:hover {\n",
              "      background-color: #434B5C;\n",
              "      box-shadow: 0px 1px 3px 1px rgba(0, 0, 0, 0.15);\n",
              "      filter: drop-shadow(0px 1px 2px rgba(0, 0, 0, 0.3));\n",
              "      fill: #FFFFFF;\n",
              "    }\n",
              "  </style>\n",
              "\n",
              "      <script>\n",
              "        const buttonEl =\n",
              "          document.querySelector('#df-1430a59a-0e1a-47a4-bdeb-8ff15db643f8 button.colab-df-convert');\n",
              "        buttonEl.style.display =\n",
              "          google.colab.kernel.accessAllowed ? 'block' : 'none';\n",
              "\n",
              "        async function convertToInteractive(key) {\n",
              "          const element = document.querySelector('#df-1430a59a-0e1a-47a4-bdeb-8ff15db643f8');\n",
              "          const dataTable =\n",
              "            await google.colab.kernel.invokeFunction('convertToInteractive',\n",
              "                                                     [key], {});\n",
              "          if (!dataTable) return;\n",
              "\n",
              "          const docLinkHtml = 'Like what you see? Visit the ' +\n",
              "            '<a target=\"_blank\" href=https://colab.research.google.com/notebooks/data_table.ipynb>data table notebook</a>'\n",
              "            + ' to learn more about interactive tables.';\n",
              "          element.innerHTML = '';\n",
              "          dataTable['output_type'] = 'display_data';\n",
              "          await google.colab.output.renderOutput(dataTable, element);\n",
              "          const docLink = document.createElement('div');\n",
              "          docLink.innerHTML = docLinkHtml;\n",
              "          element.appendChild(docLink);\n",
              "        }\n",
              "      </script>\n",
              "    </div>\n",
              "  </div>\n",
              "  "
            ]
          },
          "metadata": {},
          "execution_count": 68
        }
      ]
    },
    {
      "cell_type": "code",
      "source": [
        "df_train.drop(['id','author','subreddit','link_id','parent_id','created_utc','rater_id', 'example_very_unclear'], inplace=True, axis=1)"
      ],
      "metadata": {
        "id": "IUgfd5shOaT6"
      },
      "execution_count": 69,
      "outputs": []
    },
    {
      "cell_type": "code",
      "source": [
        "df_train['text']= df_train['text'].map(lambda x: unidecode(x))"
      ],
      "metadata": {
        "id": "55BYrbN4Pwxn"
      },
      "execution_count": 70,
      "outputs": []
    },
    {
      "cell_type": "markdown",
      "source": [
        "We assign the following variables to split the dataset and manage the cleaning and the tokenisation more easily :\n",
        "text : the column \"text\" of df that refers to all the subreddit sentences in the dataframe\n",
        "feeling :  refere to the different feeling of the text that are in the dataframe from index 1 to the last , 0 correspond to false feeling and 1 to true feeling as we can expect there are 28 sentiments in the dataframe ( from 1 to 27 raws )"
      ],
      "metadata": {
        "id": "hDRU7-5sQZON"
      }
    },
    {
      "cell_type": "code",
      "source": [
        "text = df_train['text']\n",
        "# df of all the 28 emotions\n",
        "feeling = df_train.iloc[:, 1:]"
      ],
      "metadata": {
        "id": "RPP4wqLDO-7y"
      },
      "execution_count": 71,
      "outputs": []
    },
    {
      "cell_type": "markdown",
      "source": [
        "Here we split our dataset , we have here a training sample of 180.000 elements and a testing for the rest of the dataframe so around 35.000 elements"
      ],
      "metadata": {
        "id": "NT87FrVuRjWg"
      }
    },
    {
      "cell_type": "code",
      "source": [
        "train_text = text[0:training_size]\n",
        "test_text = text[training_size:]\n",
        "train_feeling = feeling[0:training_size]\n",
        "test_feeling = feeling[training_size:]"
      ],
      "metadata": {
        "id": "R7eAcqXRPhuj"
      },
      "execution_count": 72,
      "outputs": []
    },
    {
      "cell_type": "markdown",
      "source": [
        "make all the sentences of equal size, add zeros at the end of the sentencses to fill max tweet lenght"
      ],
      "metadata": {
        "id": "3zOaz7MATqou"
      }
    },
    {
      "cell_type": "code",
      "source": [
        "tokenizer = Tokenizer(num_words=vocab_size, oov_token=oov_tok)\n",
        "tokenizer.fit_on_texts(train_text)\n",
        "\n",
        "word_index = tokenizer.word_index\n",
        "\n",
        "\n",
        "train_text = tokenizer.texts_to_sequences(train_text)\n",
        "train_pad = pad_sequences(train_text, maxlen=max_length, padding=padding_type, truncating=trunc_type)\n",
        "\n",
        "test_text = tokenizer.texts_to_sequences(test_text)\n",
        "test_pad = pad_sequences(test_text, maxlen=max_length, padding=padding_type, truncating=trunc_type)"
      ],
      "metadata": {
        "id": "FWYwEukgPmcF"
      },
      "execution_count": 73,
      "outputs": []
    },
    {
      "cell_type": "code",
      "source": [
        "train_pad = np.array(train_pad)\n",
        "train_feeling = np.array(train_feeling)\n",
        "test_pad = np.array(test_pad)\n",
        "test_feeling = np.array(test_feeling)"
      ],
      "metadata": {
        "id": "j3f9FkY3QMX0"
      },
      "execution_count": 74,
      "outputs": []
    },
    {
      "cell_type": "markdown",
      "source": [
        "MODEL 1 loss = binary cross entropy because we have here feeling with bool argument ( 0 and 1 )"
      ],
      "metadata": {
        "id": "HhElot76T5mL"
      }
    },
    {
      "cell_type": "markdown",
      "source": [
        "We have here set at the top of the notebook some general parameters for all the models we are going to train, we set a vocabulary size of 100.000 different words and a max-lenght to 150 where the max tweet length is 703"
      ],
      "metadata": {
        "id": "al55wxN3UQQs"
      }
    },
    {
      "cell_type": "code",
      "source": [
        "model = tf.keras.Sequential([\n",
        "    tf.keras.layers.Embedding(vocab_size, embedding_dim, input_length=max_length),\n",
        "    tf.keras.layers.GlobalAveragePooling1D(),\n",
        "    tf.keras.layers.Dense(128, activation='relu'), \n",
        "    tf.keras.layers.Dense(28 , activation='sigmoid')\n",
        "])\n",
        "model.compile(loss='binary_crossentropy',optimizer='adam',metrics=['accuracy'])\n",
        "model.summary()"
      ],
      "metadata": {
        "colab": {
          "base_uri": "https://localhost:8080/"
        },
        "id": "N994m3bmTkK-",
        "outputId": "39d16177-db1e-4be1-d3cd-3c2c30e12834"
      },
      "execution_count": 75,
      "outputs": [
        {
          "output_type": "stream",
          "name": "stdout",
          "text": [
            "Model: \"sequential_3\"\n",
            "_________________________________________________________________\n",
            " Layer (type)                Output Shape              Param #   \n",
            "=================================================================\n",
            " embedding_3 (Embedding)     (None, 80, 16)            160000    \n",
            "                                                                 \n",
            " global_average_pooling1d_3   (None, 16)               0         \n",
            " (GlobalAveragePooling1D)                                        \n",
            "                                                                 \n",
            " dense_6 (Dense)             (None, 128)               2176      \n",
            "                                                                 \n",
            " dense_7 (Dense)             (None, 28)                3612      \n",
            "                                                                 \n",
            "=================================================================\n",
            "Total params: 165,788\n",
            "Trainable params: 165,788\n",
            "Non-trainable params: 0\n",
            "_________________________________________________________________\n"
          ]
        }
      ]
    },
    {
      "cell_type": "code",
      "source": [
        "num_epochs = 20\n",
        "history = model.fit(train_pad, train_feeling, epochs=num_epochs, validation_data=(test_pad, test_feeling), verbose=2)"
      ],
      "metadata": {
        "colab": {
          "base_uri": "https://localhost:8080/"
        },
        "id": "NVhVQF9AVIgY",
        "outputId": "1d0a6ec8-ba41-4c06-fa03-42ed0166ebd3"
      },
      "execution_count": 76,
      "outputs": [
        {
          "output_type": "stream",
          "name": "stdout",
          "text": [
            "Epoch 1/20\n",
            "5625/5625 - 18s - loss: 0.1618 - accuracy: 0.2596 - val_loss: 0.1505 - val_accuracy: 0.2875 - 18s/epoch - 3ms/step\n",
            "Epoch 2/20\n",
            "5625/5625 - 17s - loss: 0.1447 - accuracy: 0.3092 - val_loss: 0.1394 - val_accuracy: 0.3315 - 17s/epoch - 3ms/step\n",
            "Epoch 3/20\n",
            "5625/5625 - 18s - loss: 0.1348 - accuracy: 0.3533 - val_loss: 0.1317 - val_accuracy: 0.3613 - 18s/epoch - 3ms/step\n",
            "Epoch 4/20\n",
            "5625/5625 - 18s - loss: 0.1279 - accuracy: 0.3753 - val_loss: 0.1280 - val_accuracy: 0.3724 - 18s/epoch - 3ms/step\n",
            "Epoch 5/20\n",
            "5625/5625 - 18s - loss: 0.1239 - accuracy: 0.3875 - val_loss: 0.1259 - val_accuracy: 0.3841 - 18s/epoch - 3ms/step\n",
            "Epoch 6/20\n",
            "5625/5625 - 18s - loss: 0.1213 - accuracy: 0.3968 - val_loss: 0.1250 - val_accuracy: 0.3839 - 18s/epoch - 3ms/step\n",
            "Epoch 7/20\n",
            "5625/5625 - 18s - loss: 0.1191 - accuracy: 0.4046 - val_loss: 0.1239 - val_accuracy: 0.3930 - 18s/epoch - 3ms/step\n",
            "Epoch 8/20\n",
            "5625/5625 - 18s - loss: 0.1173 - accuracy: 0.4106 - val_loss: 0.1234 - val_accuracy: 0.3924 - 18s/epoch - 3ms/step\n",
            "Epoch 9/20\n",
            "5625/5625 - 20s - loss: 0.1157 - accuracy: 0.4156 - val_loss: 0.1226 - val_accuracy: 0.3933 - 20s/epoch - 4ms/step\n",
            "Epoch 10/20\n",
            "5625/5625 - 20s - loss: 0.1144 - accuracy: 0.4201 - val_loss: 0.1231 - val_accuracy: 0.3938 - 20s/epoch - 4ms/step\n",
            "Epoch 11/20\n",
            "5625/5625 - 19s - loss: 0.1133 - accuracy: 0.4228 - val_loss: 0.1225 - val_accuracy: 0.3959 - 19s/epoch - 3ms/step\n",
            "Epoch 12/20\n",
            "5625/5625 - 20s - loss: 0.1123 - accuracy: 0.4259 - val_loss: 0.1224 - val_accuracy: 0.3939 - 20s/epoch - 3ms/step\n",
            "Epoch 13/20\n",
            "5625/5625 - 19s - loss: 0.1114 - accuracy: 0.4290 - val_loss: 0.1226 - val_accuracy: 0.3933 - 19s/epoch - 3ms/step\n",
            "Epoch 14/20\n",
            "5625/5625 - 20s - loss: 0.1105 - accuracy: 0.4321 - val_loss: 0.1221 - val_accuracy: 0.3943 - 20s/epoch - 3ms/step\n",
            "Epoch 15/20\n",
            "5625/5625 - 20s - loss: 0.1097 - accuracy: 0.4341 - val_loss: 0.1231 - val_accuracy: 0.3928 - 20s/epoch - 4ms/step\n",
            "Epoch 16/20\n",
            "5625/5625 - 20s - loss: 0.1090 - accuracy: 0.4376 - val_loss: 0.1229 - val_accuracy: 0.3931 - 20s/epoch - 3ms/step\n",
            "Epoch 17/20\n",
            "5625/5625 - 19s - loss: 0.1083 - accuracy: 0.4398 - val_loss: 0.1227 - val_accuracy: 0.3906 - 19s/epoch - 3ms/step\n",
            "Epoch 18/20\n",
            "5625/5625 - 20s - loss: 0.1076 - accuracy: 0.4424 - val_loss: 0.1240 - val_accuracy: 0.3958 - 20s/epoch - 4ms/step\n",
            "Epoch 19/20\n",
            "5625/5625 - 20s - loss: 0.1070 - accuracy: 0.4448 - val_loss: 0.1242 - val_accuracy: 0.3936 - 20s/epoch - 4ms/step\n",
            "Epoch 20/20\n",
            "5625/5625 - 21s - loss: 0.1064 - accuracy: 0.4466 - val_loss: 0.1239 - val_accuracy: 0.3935 - 21s/epoch - 4ms/step\n"
          ]
        }
      ]
    },
    {
      "cell_type": "code",
      "source": [
        "import matplotlib.pyplot as plt\n",
        "\n",
        "def plot_graphs(history, string):\n",
        "  plt.plot(history.history[string])\n",
        "  plt.plot(history.history['val_'+string])\n",
        "  plt.xlabel(\"Epochs\")\n",
        "  plt.ylabel(string)\n",
        "  plt.legend([string, 'val_'+string])\n",
        "  plt.show()\n",
        "  \n",
        "plot_graphs(history, \"accuracy\")\n",
        "plot_graphs(history, \"loss\")"
      ],
      "metadata": {
        "colab": {
          "base_uri": "https://localhost:8080/",
          "height": 541
        },
        "id": "yg3a-cCGXm-V",
        "outputId": "9c31a383-137c-4958-eb74-9fbd36646d63"
      },
      "execution_count": 77,
      "outputs": [
        {
          "output_type": "display_data",
          "data": {
            "text/plain": [
              "<Figure size 432x288 with 1 Axes>"
            ],
            "image/png": "[encoded data removed]"
          },
          "metadata": {
            "needs_background": "light"
          }
        },
        {
          "output_type": "display_data",
          "data": {
            "text/plain": [
              "<Figure size 432x288 with 1 Axes>"
            ],
            "image/png": "[encoded data removed]"
          },
          "metadata": {
            "needs_background": "light"
          }
        }
      ]
    },
    {
      "cell_type": "markdown",
      "source": [
        "we can see here that there is no overfitting because when loss decrease the accuracy increase. But we have also only 44% accuracy so we will try some other models."
      ],
      "metadata": {
        "id": "SL_0Uhggahs3"
      }
    },
    {
      "cell_type": "markdown",
      "source": [
        "but first Lets try this model with a loss of categorical_crossentropy instead of binary_crossentropy to see if it can increase our model performance and put vocab_size = 10000 to reduce the time taken to train and test our model"
      ],
      "metadata": {
        "id": "jEOky0ERWmFV"
      }
    },
    {
      "cell_type": "code",
      "source": [
        "vocab_size = 10000 \n",
        "model = tf.keras.Sequential([\n",
        "    tf.keras.layers.Embedding(vocab_size, embedding_dim, input_length=max_length),\n",
        "    tf.keras.layers.GlobalAveragePooling1D(),\n",
        "    tf.keras.layers.Dense(128, activation='relu'), \n",
        "    tf.keras.layers.Dense(28 , activation='sigmoid')\n",
        "])\n",
        "model.compile(loss='categorical_crossentropy',optimizer='adam',metrics=['accuracy'])\n",
        "model.summary()"
      ],
      "metadata": {
        "colab": {
          "base_uri": "https://localhost:8080/"
        },
        "id": "U0liNku0VWs9",
        "outputId": "89b46cfc-6de8-4e6d-830c-f03217373425"
      },
      "execution_count": 78,
      "outputs": [
        {
          "output_type": "stream",
          "name": "stdout",
          "text": [
            "Model: \"sequential_4\"\n",
            "_________________________________________________________________\n",
            " Layer (type)                Output Shape              Param #   \n",
            "=================================================================\n",
            " embedding_4 (Embedding)     (None, 80, 16)            160000    \n",
            "                                                                 \n",
            " global_average_pooling1d_4   (None, 16)               0         \n",
            " (GlobalAveragePooling1D)                                        \n",
            "                                                                 \n",
            " dense_8 (Dense)             (None, 128)               2176      \n",
            "                                                                 \n",
            " dense_9 (Dense)             (None, 28)                3612      \n",
            "                                                                 \n",
            "=================================================================\n",
            "Total params: 165,788\n",
            "Trainable params: 165,788\n",
            "Non-trainable params: 0\n",
            "_________________________________________________________________\n"
          ]
        }
      ]
    },
    {
      "cell_type": "code",
      "source": [
        "num_epochs = 20\n",
        "history = model.fit(train_pad, train_feeling, epochs=num_epochs, validation_data=(test_pad, test_feeling), verbose=2)"
      ],
      "metadata": {
        "colab": {
          "base_uri": "https://localhost:8080/"
        },
        "id": "whpKKXKQXjqw",
        "outputId": "15847c4e-d812-4191-e4c8-abdc9e5a6320"
      },
      "execution_count": 79,
      "outputs": [
        {
          "output_type": "stream",
          "name": "stdout",
          "text": [
            "Epoch 1/20\n",
            "5625/5625 - 20s - loss: 23.8423 - accuracy: 0.1362 - val_loss: 61.1330 - val_accuracy: 0.0968 - 20s/epoch - 4ms/step\n",
            "Epoch 2/20\n",
            "5625/5625 - 21s - loss: 132.3587 - accuracy: 0.0948 - val_loss: 231.4224 - val_accuracy: 0.2635 - 21s/epoch - 4ms/step\n",
            "Epoch 3/20\n",
            "5625/5625 - 20s - loss: 298.5028 - accuracy: 0.0943 - val_loss: 421.1852 - val_accuracy: 0.0254 - 20s/epoch - 4ms/step\n",
            "Epoch 4/20\n",
            "5625/5625 - 25s - loss: 529.9109 - accuracy: 0.0945 - val_loss: 760.6068 - val_accuracy: 0.0373 - 25s/epoch - 4ms/step\n",
            "Epoch 5/20\n",
            "5625/5625 - 21s - loss: 820.9075 - accuracy: 0.0948 - val_loss: 856.2493 - val_accuracy: 0.0131 - 21s/epoch - 4ms/step\n",
            "Epoch 6/20\n",
            "5625/5625 - 25s - loss: 1197.2296 - accuracy: 0.0941 - val_loss: 1139.9958 - val_accuracy: 0.0175 - 25s/epoch - 4ms/step\n",
            "Epoch 7/20\n",
            "5625/5625 - 22s - loss: 1571.9310 - accuracy: 0.0953 - val_loss: 1893.2926 - val_accuracy: 0.0240 - 22s/epoch - 4ms/step\n",
            "Epoch 8/20\n",
            "5625/5625 - 22s - loss: 2066.5349 - accuracy: 0.0961 - val_loss: 1746.0232 - val_accuracy: 0.0254 - 22s/epoch - 4ms/step\n",
            "Epoch 9/20\n",
            "5625/5625 - 21s - loss: 2627.7839 - accuracy: 0.0963 - val_loss: 3009.3413 - val_accuracy: 0.0145 - 21s/epoch - 4ms/step\n",
            "Epoch 10/20\n",
            "5625/5625 - 25s - loss: 3177.0386 - accuracy: 0.0952 - val_loss: 4071.9395 - val_accuracy: 0.0197 - 25s/epoch - 5ms/step\n",
            "Epoch 11/20\n",
            "5625/5625 - 29s - loss: 3847.4360 - accuracy: 0.0955 - val_loss: 4447.2075 - val_accuracy: 0.2635 - 29s/epoch - 5ms/step\n",
            "Epoch 12/20\n",
            "5625/5625 - 29s - loss: 4596.7007 - accuracy: 0.0943 - val_loss: 5280.7427 - val_accuracy: 0.0968 - 29s/epoch - 5ms/step\n",
            "Epoch 13/20\n",
            "5625/5625 - 30s - loss: 5344.9175 - accuracy: 0.0950 - val_loss: 5884.4810 - val_accuracy: 0.2635 - 30s/epoch - 5ms/step\n",
            "Epoch 14/20\n",
            "5625/5625 - 27s - loss: 6234.4204 - accuracy: 0.0938 - val_loss: 7069.9019 - val_accuracy: 0.2635 - 27s/epoch - 5ms/step\n",
            "Epoch 15/20\n",
            "5625/5625 - 23s - loss: 7150.3877 - accuracy: 0.0957 - val_loss: 7356.1260 - val_accuracy: 0.0725 - 23s/epoch - 4ms/step\n",
            "Epoch 16/20\n",
            "5625/5625 - 23s - loss: 8017.0410 - accuracy: 0.0961 - val_loss: 8420.1494 - val_accuracy: 0.2635 - 23s/epoch - 4ms/step\n",
            "Epoch 17/20\n",
            "5625/5625 - 25s - loss: 9099.3242 - accuracy: 0.0950 - val_loss: 6994.9067 - val_accuracy: 0.0575 - 25s/epoch - 4ms/step\n",
            "Epoch 18/20\n",
            "5625/5625 - 22s - loss: 10235.7383 - accuracy: 0.0943 - val_loss: 12860.2207 - val_accuracy: 0.0385 - 22s/epoch - 4ms/step\n",
            "Epoch 19/20\n",
            "5625/5625 - 21s - loss: 11301.9600 - accuracy: 0.0962 - val_loss: 9874.5117 - val_accuracy: 0.2635 - 21s/epoch - 4ms/step\n",
            "Epoch 20/20\n",
            "5625/5625 - 20s - loss: 12498.5957 - accuracy: 0.0943 - val_loss: 11095.2002 - val_accuracy: 0.0249 - 20s/epoch - 4ms/step\n"
          ]
        }
      ]
    },
    {
      "cell_type": "code",
      "source": [
        "import matplotlib.pyplot as plt\n",
        "\n",
        "def plot_graphs(history, string):\n",
        "  plt.plot(history.history[string])\n",
        "  plt.plot(history.history['val_'+string])\n",
        "  plt.xlabel(\"Epochs\")\n",
        "  plt.ylabel(string)\n",
        "  plt.legend([string, 'val_'+string])\n",
        "  plt.show()\n",
        "  \n",
        "plot_graphs(history, \"accuracy\")\n",
        "plot_graphs(history, \"loss\")"
      ],
      "metadata": {
        "colab": {
          "base_uri": "https://localhost:8080/",
          "height": 541
        },
        "id": "djXqLF7WXtN8",
        "outputId": "1779765d-f024-4a0d-f526-41d1da6e2302"
      },
      "execution_count": 80,
      "outputs": [
        {
          "output_type": "display_data",
          "data": {
            "text/plain": [
              "<Figure size 432x288 with 1 Axes>"
            ],
            "image/png": "[encoded data removed]"
          },
          "metadata": {
            "needs_background": "light"
          }
        },
        {
          "output_type": "display_data",
          "data": {
            "text/plain": [
              "<Figure size 432x288 with 1 Axes>"
            ],
            "image/png": "[encoded data removed]"
          },
          "metadata": {
            "needs_background": "light"
          }
        }
      ]
    },
    {
      "cell_type": "markdown",
      "source": [
        "We can see here that the categorical crossentropy doesn't help at all because we have a loss function increasing over the epochs and the accuracy stagning. This is not what we are looking for. Lets try the first model with binary crossentropy and some dropout to see if we can win some% of accuracy as we saw in class. Lets start with a dropout at 0.2 and then 0.5."
      ],
      "metadata": {
        "id": "k3f0RM1_bqzg"
      }
    },
    {
      "cell_type": "code",
      "source": [
        "model = tf.keras.Sequential([\n",
        "    tf.keras.layers.Embedding(vocab_size, embedding_dim, input_length=max_length),\n",
        "    tf.keras.layers.GlobalAveragePooling1D(),\n",
        "    tf.keras.layers.Dropout(0.2),\n",
        "    tf.keras.layers.Dense(128, activation='relu'), \n",
        "    tf.keras.layers.Dense(28 , activation='sigmoid')\n",
        "])\n",
        "model.compile(loss='binary_crossentropy',optimizer='adam',metrics=['accuracy'])\n",
        "model.summary()"
      ],
      "metadata": {
        "colab": {
          "base_uri": "https://localhost:8080/"
        },
        "id": "WwWAH1OYcH-u",
        "outputId": "16d4a4d8-c3a8-40c1-9f35-ee743ae82ba4"
      },
      "execution_count": 81,
      "outputs": [
        {
          "output_type": "stream",
          "name": "stdout",
          "text": [
            "Model: \"sequential_5\"\n",
            "_________________________________________________________________\n",
            " Layer (type)                Output Shape              Param #   \n",
            "=================================================================\n",
            " embedding_5 (Embedding)     (None, 80, 16)            160000    \n",
            "                                                                 \n",
            " global_average_pooling1d_5   (None, 16)               0         \n",
            " (GlobalAveragePooling1D)                                        \n",
            "                                                                 \n",
            " dropout (Dropout)           (None, 16)                0         \n",
            "                                                                 \n",
            " dense_10 (Dense)            (None, 128)               2176      \n",
            "                                                                 \n",
            " dense_11 (Dense)            (None, 28)                3612      \n",
            "                                                                 \n",
            "=================================================================\n",
            "Total params: 165,788\n",
            "Trainable params: 165,788\n",
            "Non-trainable params: 0\n",
            "_________________________________________________________________\n"
          ]
        }
      ]
    },
    {
      "cell_type": "code",
      "source": [
        "num_epochs = 20\n",
        "history = model.fit(train_pad, train_feeling, epochs=num_epochs, validation_data=(test_pad, test_feeling), verbose=2)"
      ],
      "metadata": {
        "colab": {
          "base_uri": "https://localhost:8080/"
        },
        "id": "UQwatEuUcSEK",
        "outputId": "db9d20ff-838b-4e22-ae3d-2206a50f52ab"
      },
      "execution_count": 82,
      "outputs": [
        {
          "output_type": "stream",
          "name": "stdout",
          "text": [
            "Epoch 1/20\n",
            "5625/5625 - 31s - loss: 0.1581 - accuracy: 0.2726 - val_loss: 0.1453 - val_accuracy: 0.2985 - 31s/epoch - 6ms/step\n",
            "Epoch 2/20\n",
            "5625/5625 - 26s - loss: 0.1401 - accuracy: 0.3290 - val_loss: 0.1343 - val_accuracy: 0.3580 - 26s/epoch - 5ms/step\n",
            "Epoch 3/20\n",
            "5625/5625 - 25s - loss: 0.1316 - accuracy: 0.3652 - val_loss: 0.1291 - val_accuracy: 0.3718 - 25s/epoch - 4ms/step\n",
            "Epoch 4/20\n",
            "5625/5625 - 21s - loss: 0.1269 - accuracy: 0.3778 - val_loss: 0.1263 - val_accuracy: 0.3769 - 21s/epoch - 4ms/step\n",
            "Epoch 5/20\n",
            "5625/5625 - 20s - loss: 0.1238 - accuracy: 0.3887 - val_loss: 0.1243 - val_accuracy: 0.3879 - 20s/epoch - 4ms/step\n",
            "Epoch 6/20\n",
            "5625/5625 - 21s - loss: 0.1216 - accuracy: 0.3969 - val_loss: 0.1235 - val_accuracy: 0.3899 - 21s/epoch - 4ms/step\n",
            "Epoch 7/20\n",
            "5625/5625 - 20s - loss: 0.1200 - accuracy: 0.4024 - val_loss: 0.1227 - val_accuracy: 0.3951 - 20s/epoch - 4ms/step\n",
            "Epoch 8/20\n",
            "5625/5625 - 19s - loss: 0.1188 - accuracy: 0.4064 - val_loss: 0.1231 - val_accuracy: 0.3963 - 19s/epoch - 3ms/step\n",
            "Epoch 9/20\n",
            "5625/5625 - 20s - loss: 0.1179 - accuracy: 0.4087 - val_loss: 0.1222 - val_accuracy: 0.3955 - 20s/epoch - 4ms/step\n",
            "Epoch 10/20\n",
            "5625/5625 - 18s - loss: 0.1171 - accuracy: 0.4123 - val_loss: 0.1220 - val_accuracy: 0.3964 - 18s/epoch - 3ms/step\n",
            "Epoch 11/20\n",
            "5625/5625 - 19s - loss: 0.1164 - accuracy: 0.4137 - val_loss: 0.1220 - val_accuracy: 0.3965 - 19s/epoch - 3ms/step\n",
            "Epoch 12/20\n",
            "5625/5625 - 18s - loss: 0.1159 - accuracy: 0.4145 - val_loss: 0.1221 - val_accuracy: 0.3966 - 18s/epoch - 3ms/step\n",
            "Epoch 13/20\n",
            "5625/5625 - 20s - loss: 0.1153 - accuracy: 0.4169 - val_loss: 0.1220 - val_accuracy: 0.3962 - 20s/epoch - 4ms/step\n",
            "Epoch 14/20\n",
            "5625/5625 - 19s - loss: 0.1149 - accuracy: 0.4196 - val_loss: 0.1215 - val_accuracy: 0.3984 - 19s/epoch - 3ms/step\n",
            "Epoch 15/20\n",
            "5625/5625 - 19s - loss: 0.1143 - accuracy: 0.4208 - val_loss: 0.1220 - val_accuracy: 0.3962 - 19s/epoch - 3ms/step\n",
            "Epoch 16/20\n",
            "5625/5625 - 20s - loss: 0.1139 - accuracy: 0.4210 - val_loss: 0.1220 - val_accuracy: 0.3951 - 20s/epoch - 3ms/step\n",
            "Epoch 17/20\n",
            "5625/5625 - 20s - loss: 0.1136 - accuracy: 0.4221 - val_loss: 0.1218 - val_accuracy: 0.3965 - 20s/epoch - 4ms/step\n",
            "Epoch 18/20\n",
            "5625/5625 - 19s - loss: 0.1133 - accuracy: 0.4224 - val_loss: 0.1219 - val_accuracy: 0.3970 - 19s/epoch - 3ms/step\n",
            "Epoch 19/20\n",
            "5625/5625 - 19s - loss: 0.1129 - accuracy: 0.4246 - val_loss: 0.1219 - val_accuracy: 0.3979 - 19s/epoch - 3ms/step\n",
            "Epoch 20/20\n",
            "5625/5625 - 19s - loss: 0.1127 - accuracy: 0.4259 - val_loss: 0.1221 - val_accuracy: 0.3978 - 19s/epoch - 3ms/step\n"
          ]
        }
      ]
    },
    {
      "cell_type": "code",
      "source": [
        "import matplotlib.pyplot as plt\n",
        "\n",
        "def plot_graphs(history, string):\n",
        "  plt.plot(history.history[string])\n",
        "  plt.plot(history.history['val_'+string])\n",
        "  plt.xlabel(\"Epochs\")\n",
        "  plt.ylabel(string)\n",
        "  plt.legend([string, 'val_'+string])\n",
        "  plt.show()\n",
        "  \n",
        "plot_graphs(history, \"accuracy\")\n",
        "plot_graphs(history, \"loss\")"
      ],
      "metadata": {
        "colab": {
          "base_uri": "https://localhost:8080/",
          "height": 544
        },
        "id": "2Tdhh9_IcUgN",
        "outputId": "7f99c0bf-66b7-42ac-ea6a-5700209a4f01"
      },
      "execution_count": 83,
      "outputs": [
        {
          "output_type": "display_data",
          "data": {
            "text/plain": [
              "<Figure size 432x288 with 1 Axes>"
            ],
            "image/png": "[encoded data removed]"
          },
          "metadata": {
            "needs_background": "light"
          }
        },
        {
          "output_type": "display_data",
          "data": {
            "text/plain": [
              "<Figure size 432x288 with 1 Axes>"
            ],
            "image/png": "[encoded data removed]"
          },
          "metadata": {
            "needs_background": "light"
          }
        }
      ]
    },
    {
      "cell_type": "markdown",
      "source": [
        "Now let's try with a dropou at 0.5"
      ],
      "metadata": {
        "id": "9Jiv2eZtc4AT"
      }
    },
    {
      "cell_type": "code",
      "source": [
        "model = tf.keras.Sequential([\n",
        "    tf.keras.layers.Embedding(vocab_size, embedding_dim, input_length=max_length),\n",
        "    tf.keras.layers.GlobalAveragePooling1D(),\n",
        "    tf.keras.layers.Dropout(0.5),\n",
        "    tf.keras.layers.Dense(128, activation='relu'), \n",
        "    tf.keras.layers.Dense(28 , activation='sigmoid')\n",
        "])\n",
        "model.compile(loss='binary_crossentropy',optimizer='adam',metrics=['accuracy'])\n",
        "model.summary()"
      ],
      "metadata": {
        "colab": {
          "base_uri": "https://localhost:8080/"
        },
        "id": "5WtfUMoDc2IT",
        "outputId": "2b28f18e-278c-4f75-cbf3-e0fbdb69d2c4"
      },
      "execution_count": 84,
      "outputs": [
        {
          "output_type": "stream",
          "name": "stdout",
          "text": [
            "Model: \"sequential_6\"\n",
            "_________________________________________________________________\n",
            " Layer (type)                Output Shape              Param #   \n",
            "=================================================================\n",
            " embedding_6 (Embedding)     (None, 80, 16)            160000    \n",
            "                                                                 \n",
            " global_average_pooling1d_6   (None, 16)               0         \n",
            " (GlobalAveragePooling1D)                                        \n",
            "                                                                 \n",
            " dropout_1 (Dropout)         (None, 16)                0         \n",
            "                                                                 \n",
            " dense_12 (Dense)            (None, 128)               2176      \n",
            "                                                                 \n",
            " dense_13 (Dense)            (None, 28)                3612      \n",
            "                                                                 \n",
            "=================================================================\n",
            "Total params: 165,788\n",
            "Trainable params: 165,788\n",
            "Non-trainable params: 0\n",
            "_________________________________________________________________\n"
          ]
        }
      ]
    },
    {
      "cell_type": "code",
      "source": [
        "num_epochs = 20\n",
        "history = model.fit(train_pad, train_feeling, epochs=num_epochs, validation_data=(test_pad, test_feeling), verbose=2)"
      ],
      "metadata": {
        "colab": {
          "base_uri": "https://localhost:8080/"
        },
        "id": "_hAAGSLrdBRI",
        "outputId": "fe48d440-c5a8-492b-95b5-be126287b9a5"
      },
      "execution_count": 85,
      "outputs": [
        {
          "output_type": "stream",
          "name": "stdout",
          "text": [
            "Epoch 1/20\n",
            "5625/5625 - 26s - loss: 0.1595 - accuracy: 0.2687 - val_loss: 0.1473 - val_accuracy: 0.3050 - 26s/epoch - 5ms/step\n",
            "Epoch 2/20\n",
            "5625/5625 - 28s - loss: 0.1433 - accuracy: 0.3165 - val_loss: 0.1373 - val_accuracy: 0.3430 - 28s/epoch - 5ms/step\n",
            "Epoch 3/20\n",
            "5625/5625 - 26s - loss: 0.1364 - accuracy: 0.3469 - val_loss: 0.1317 - val_accuracy: 0.3618 - 26s/epoch - 5ms/step\n",
            "Epoch 4/20\n",
            "5625/5625 - 19s - loss: 0.1330 - accuracy: 0.3574 - val_loss: 0.1290 - val_accuracy: 0.3700 - 19s/epoch - 3ms/step\n",
            "Epoch 5/20\n",
            "5625/5625 - 18s - loss: 0.1308 - accuracy: 0.3635 - val_loss: 0.1278 - val_accuracy: 0.3734 - 18s/epoch - 3ms/step\n",
            "Epoch 6/20\n",
            "5625/5625 - 18s - loss: 0.1294 - accuracy: 0.3685 - val_loss: 0.1263 - val_accuracy: 0.3792 - 18s/epoch - 3ms/step\n",
            "Epoch 7/20\n",
            "5625/5625 - 18s - loss: 0.1283 - accuracy: 0.3722 - val_loss: 0.1254 - val_accuracy: 0.3854 - 18s/epoch - 3ms/step\n",
            "Epoch 8/20\n",
            "5625/5625 - 18s - loss: 0.1274 - accuracy: 0.3751 - val_loss: 0.1254 - val_accuracy: 0.3884 - 18s/epoch - 3ms/step\n",
            "Epoch 9/20\n",
            "5625/5625 - 20s - loss: 0.1268 - accuracy: 0.3775 - val_loss: 0.1243 - val_accuracy: 0.3908 - 20s/epoch - 3ms/step\n",
            "Epoch 10/20\n",
            "5625/5625 - 19s - loss: 0.1262 - accuracy: 0.3795 - val_loss: 0.1240 - val_accuracy: 0.3905 - 19s/epoch - 3ms/step\n",
            "Epoch 11/20\n",
            "5625/5625 - 18s - loss: 0.1258 - accuracy: 0.3816 - val_loss: 0.1237 - val_accuracy: 0.3904 - 18s/epoch - 3ms/step\n",
            "Epoch 12/20\n",
            "5625/5625 - 18s - loss: 0.1253 - accuracy: 0.3826 - val_loss: 0.1234 - val_accuracy: 0.3908 - 18s/epoch - 3ms/step\n",
            "Epoch 13/20\n",
            "5625/5625 - 20s - loss: 0.1250 - accuracy: 0.3834 - val_loss: 0.1232 - val_accuracy: 0.3949 - 20s/epoch - 3ms/step\n",
            "Epoch 14/20\n",
            "5625/5625 - 19s - loss: 0.1247 - accuracy: 0.3855 - val_loss: 0.1235 - val_accuracy: 0.3919 - 19s/epoch - 3ms/step\n",
            "Epoch 15/20\n",
            "5625/5625 - 19s - loss: 0.1243 - accuracy: 0.3860 - val_loss: 0.1228 - val_accuracy: 0.3950 - 19s/epoch - 3ms/step\n",
            "Epoch 16/20\n",
            "5625/5625 - 18s - loss: 0.1241 - accuracy: 0.3872 - val_loss: 0.1231 - val_accuracy: 0.3945 - 18s/epoch - 3ms/step\n",
            "Epoch 17/20\n",
            "5625/5625 - 19s - loss: 0.1239 - accuracy: 0.3875 - val_loss: 0.1226 - val_accuracy: 0.3962 - 19s/epoch - 3ms/step\n",
            "Epoch 18/20\n",
            "5625/5625 - 19s - loss: 0.1237 - accuracy: 0.3880 - val_loss: 0.1225 - val_accuracy: 0.3975 - 19s/epoch - 3ms/step\n",
            "Epoch 19/20\n",
            "5625/5625 - 19s - loss: 0.1235 - accuracy: 0.3888 - val_loss: 0.1225 - val_accuracy: 0.3953 - 19s/epoch - 3ms/step\n",
            "Epoch 20/20\n",
            "5625/5625 - 18s - loss: 0.1234 - accuracy: 0.3900 - val_loss: 0.1225 - val_accuracy: 0.3933 - 18s/epoch - 3ms/step\n"
          ]
        }
      ]
    },
    {
      "cell_type": "code",
      "source": [
        "import matplotlib.pyplot as plt\n",
        "\n",
        "def plot_graphs(history, string):\n",
        "  plt.plot(history.history[string])\n",
        "  plt.plot(history.history['val_'+string])\n",
        "  plt.xlabel(\"Epochs\")\n",
        "  plt.ylabel(string)\n",
        "  plt.legend([string, 'val_'+string])\n",
        "  plt.show()\n",
        "  \n",
        "plot_graphs(history, \"accuracy\")\n",
        "plot_graphs(history, \"loss\")"
      ],
      "metadata": {
        "colab": {
          "base_uri": "https://localhost:8080/",
          "height": 541
        },
        "id": "uoQlCwzldFOo",
        "outputId": "acb5eaab-4442-419b-e522-c62c98078e80"
      },
      "execution_count": 86,
      "outputs": [
        {
          "output_type": "display_data",
          "data": {
            "text/plain": [
              "<Figure size 432x288 with 1 Axes>"
            ],
            "image/png": "[encoded data removed]"
          },
          "metadata": {
            "needs_background": "light"
          }
        },
        {
          "output_type": "display_data",
          "data": {
            "text/plain": [
              "<Figure size 432x288 with 1 Axes>"
            ],
            "image/png": "[encoded data removed]"
          },
          "metadata": {
            "needs_background": "light"
          }
        }
      ]
    },
    {
      "cell_type": "markdown",
      "source": [
        "We can see here that the accuracy is still a little bit higher than 0.40% but not much and not improving even with regularization function as dropout.\n",
        "We need to choose an other metric than accuracy. "
      ],
      "metadata": {
        "id": "wPgEL0vdehUh"
      }
    },
    {
      "cell_type": "code",
      "source": [
        "model = tf.keras.Sequential([\n",
        "    tf.keras.layers.Embedding(vocab_size, embedding_dim, input_length=max_length),\n",
        "    tf.keras.layers.GlobalAveragePooling1D(),\n",
        "    tf.keras.layers.Dense(128, activation='relu'), \n",
        "    tf.keras.layers.Dense(28 , activation='sigmoid')\n",
        "])\n",
        "model.compile(loss='binary_crossentropy',optimizer='adam',metrics=[tf.keras.metrics.AUC()])\n",
        "model.summary()"
      ],
      "metadata": {
        "colab": {
          "base_uri": "https://localhost:8080/"
        },
        "id": "S7APdpbLgFlQ",
        "outputId": "9ef31ba4-a4fc-453c-d0ff-451c0e4d35a7"
      },
      "execution_count": 87,
      "outputs": [
        {
          "output_type": "stream",
          "name": "stdout",
          "text": [
            "Model: \"sequential_7\"\n",
            "_________________________________________________________________\n",
            " Layer (type)                Output Shape              Param #   \n",
            "=================================================================\n",
            " embedding_7 (Embedding)     (None, 80, 16)            160000    \n",
            "                                                                 \n",
            " global_average_pooling1d_7   (None, 16)               0         \n",
            " (GlobalAveragePooling1D)                                        \n",
            "                                                                 \n",
            " dense_14 (Dense)            (None, 128)               2176      \n",
            "                                                                 \n",
            " dense_15 (Dense)            (None, 28)                3612      \n",
            "                                                                 \n",
            "=================================================================\n",
            "Total params: 165,788\n",
            "Trainable params: 165,788\n",
            "Non-trainable params: 0\n",
            "_________________________________________________________________\n"
          ]
        }
      ]
    },
    {
      "cell_type": "code",
      "source": [
        "num_epochs = 20\n",
        "history = model.fit(train_pad, train_feeling, epochs=num_epochs, validation_data=(test_pad, test_feeling), verbose=2)"
      ],
      "metadata": {
        "colab": {
          "base_uri": "https://localhost:8080/"
        },
        "id": "-rAYMlyHgXkX",
        "outputId": "377611f2-e6c4-46bd-8baf-2686b7ff3a88"
      },
      "execution_count": 88,
      "outputs": [
        {
          "output_type": "stream",
          "name": "stdout",
          "text": [
            "Epoch 1/20\n",
            "5625/5625 - 25s - loss: 0.1612 - auc: 0.7356 - val_loss: 0.1496 - val_auc: 0.7727 - 25s/epoch - 4ms/step\n",
            "Epoch 2/20\n",
            "5625/5625 - 26s - loss: 0.1451 - auc: 0.7978 - val_loss: 0.1409 - val_auc: 0.8141 - 26s/epoch - 5ms/step\n",
            "Epoch 3/20\n",
            "5625/5625 - 22s - loss: 0.1359 - auc: 0.8353 - val_loss: 0.1328 - val_auc: 0.8464 - 22s/epoch - 4ms/step\n",
            "Epoch 4/20\n",
            "5625/5625 - 26s - loss: 0.1287 - auc: 0.8611 - val_loss: 0.1285 - val_auc: 0.8620 - 26s/epoch - 5ms/step\n",
            "Epoch 5/20\n",
            "5625/5625 - 25s - loss: 0.1244 - auc: 0.8754 - val_loss: 0.1260 - val_auc: 0.8701 - 25s/epoch - 4ms/step\n",
            "Epoch 6/20\n",
            "5625/5625 - 19s - loss: 0.1215 - auc: 0.8842 - val_loss: 0.1250 - val_auc: 0.8732 - 19s/epoch - 3ms/step\n",
            "Epoch 7/20\n",
            "5625/5625 - 18s - loss: 0.1191 - auc: 0.8910 - val_loss: 0.1236 - val_auc: 0.8772 - 18s/epoch - 3ms/step\n",
            "Epoch 8/20\n",
            "5625/5625 - 20s - loss: 0.1171 - auc: 0.8963 - val_loss: 0.1231 - val_auc: 0.8786 - 20s/epoch - 4ms/step\n",
            "Epoch 9/20\n",
            "5625/5625 - 19s - loss: 0.1155 - auc: 0.9005 - val_loss: 0.1227 - val_auc: 0.8801 - 19s/epoch - 3ms/step\n",
            "Epoch 10/20\n",
            "5625/5625 - 20s - loss: 0.1142 - auc: 0.9039 - val_loss: 0.1224 - val_auc: 0.8809 - 20s/epoch - 4ms/step\n",
            "Epoch 11/20\n",
            "5625/5625 - 21s - loss: 0.1130 - auc: 0.9070 - val_loss: 0.1227 - val_auc: 0.8815 - 21s/epoch - 4ms/step\n",
            "Epoch 12/20\n",
            "5625/5625 - 20s - loss: 0.1120 - auc: 0.9094 - val_loss: 0.1227 - val_auc: 0.8804 - 20s/epoch - 4ms/step\n",
            "Epoch 13/20\n",
            "5625/5625 - 19s - loss: 0.1110 - auc: 0.9116 - val_loss: 0.1223 - val_auc: 0.8820 - 19s/epoch - 3ms/step\n",
            "Epoch 14/20\n",
            "5625/5625 - 19s - loss: 0.1102 - auc: 0.9137 - val_loss: 0.1226 - val_auc: 0.8807 - 19s/epoch - 3ms/step\n",
            "Epoch 15/20\n",
            "5625/5625 - 19s - loss: 0.1093 - auc: 0.9156 - val_loss: 0.1227 - val_auc: 0.8812 - 19s/epoch - 3ms/step\n",
            "Epoch 16/20\n",
            "5625/5625 - 25s - loss: 0.1086 - auc: 0.9173 - val_loss: 0.1228 - val_auc: 0.8814 - 25s/epoch - 4ms/step\n",
            "Epoch 17/20\n",
            "5625/5625 - 23s - loss: 0.1079 - auc: 0.9187 - val_loss: 0.1232 - val_auc: 0.8807 - 23s/epoch - 4ms/step\n",
            "Epoch 18/20\n",
            "5625/5625 - 19s - loss: 0.1073 - auc: 0.9201 - val_loss: 0.1234 - val_auc: 0.8799 - 19s/epoch - 3ms/step\n",
            "Epoch 19/20\n",
            "5625/5625 - 19s - loss: 0.1068 - auc: 0.9214 - val_loss: 0.1239 - val_auc: 0.8791 - 19s/epoch - 3ms/step\n",
            "Epoch 20/20\n",
            "5625/5625 - 24s - loss: 0.1063 - auc: 0.9225 - val_loss: 0.1237 - val_auc: 0.8795 - 24s/epoch - 4ms/step\n"
          ]
        }
      ]
    },
    {
      "cell_type": "code",
      "source": [
        "def plot_graphs(history, string):\n",
        "  plt.plot(history.history[string])\n",
        "  plt.plot(history.history['val_'+string])\n",
        "  plt.xlabel(\"Epochs\")\n",
        "  plt.ylabel(string)\n",
        "  plt.legend([string, 'val_'+string])\n",
        "  plt.show()\n",
        "  \n",
        "plot_graphs(history, \"auc\")\n",
        "plot_graphs(history, \"loss\")"
      ],
      "metadata": {
        "colab": {
          "base_uri": "https://localhost:8080/",
          "height": 541
        },
        "id": "-JEpUQbMgeo_",
        "outputId": "c64bdcd0-3f9f-4ed0-bed7-b4d9b3cb4715"
      },
      "execution_count": 91,
      "outputs": [
        {
          "output_type": "display_data",
          "data": {
            "text/plain": [
              "<Figure size 432x288 with 1 Axes>"
            ],
            "image/png": "[encoded data removed]"
          },
          "metadata": {
            "needs_background": "light"
          }
        },
        {
          "output_type": "display_data",
          "data": {
            "text/plain": [
              "<Figure size 432x288 with 1 Axes>"
            ],
            "image/png": "[encoded data removed]"
          },
          "metadata": {
            "needs_background": "light"
          }
        }
      ]
    },
    {
      "cell_type": "markdown",
      "source": [
        "We can see here a better accuracy , but we can also see that the model is overfitting very much. Lets add a regularization as for the accuracy metric with a dropout function"
      ],
      "metadata": {
        "id": "5gNUHI3lghbG"
      }
    },
    {
      "cell_type": "code",
      "source": [
        "model = tf.keras.Sequential([\n",
        "    tf.keras.layers.Embedding(vocab_size, embedding_dim, input_length=max_length),\n",
        "    tf.keras.layers.GlobalAveragePooling1D(),\n",
        "    tf.keras.layers.Dropout(0.5),\n",
        "    tf.keras.layers.Dense(128, activation='relu'), \n",
        "    tf.keras.layers.Dense(28 , activation='sigmoid')\n",
        "])\n",
        "model.compile(loss='binary_crossentropy',optimizer='adam',metrics=[tf.keras.metrics.AUC()])\n",
        "model.summary()"
      ],
      "metadata": {
        "colab": {
          "base_uri": "https://localhost:8080/"
        },
        "id": "VO7f4Bymgx-I",
        "outputId": "e05348b0-8afb-435b-b0ec-173927de0e68"
      },
      "execution_count": 92,
      "outputs": [
        {
          "output_type": "stream",
          "name": "stdout",
          "text": [
            "Model: \"sequential_8\"\n",
            "_________________________________________________________________\n",
            " Layer (type)                Output Shape              Param #   \n",
            "=================================================================\n",
            " embedding_8 (Embedding)     (None, 80, 16)            160000    \n",
            "                                                                 \n",
            " global_average_pooling1d_8   (None, 16)               0         \n",
            " (GlobalAveragePooling1D)                                        \n",
            "                                                                 \n",
            " dropout_2 (Dropout)         (None, 16)                0         \n",
            "                                                                 \n",
            " dense_16 (Dense)            (None, 128)               2176      \n",
            "                                                                 \n",
            " dense_17 (Dense)            (None, 28)                3612      \n",
            "                                                                 \n",
            "=================================================================\n",
            "Total params: 165,788\n",
            "Trainable params: 165,788\n",
            "Non-trainable params: 0\n",
            "_________________________________________________________________\n"
          ]
        }
      ]
    },
    {
      "cell_type": "code",
      "source": [
        "num_epochs = 20\n",
        "history = model.fit(train_pad, train_feeling, epochs=num_epochs, validation_data=(test_pad, test_feeling), verbose=2)"
      ],
      "metadata": {
        "colab": {
          "base_uri": "https://localhost:8080/"
        },
        "id": "8GBothRhg7II",
        "outputId": "391c1a15-1773-48ab-fbfe-c0cbaeba5602"
      },
      "execution_count": 93,
      "outputs": [
        {
          "output_type": "stream",
          "name": "stdout",
          "text": [
            "Epoch 1/20\n",
            "5625/5625 - 23s - loss: 0.1594 - auc_1: 0.7405 - val_loss: 0.1470 - val_auc_1: 0.7899 - 23s/epoch - 4ms/step\n",
            "Epoch 2/20\n",
            "5625/5625 - 19s - loss: 0.1431 - auc_1: 0.8082 - val_loss: 0.1363 - val_auc_1: 0.8332 - 19s/epoch - 3ms/step\n",
            "Epoch 3/20\n",
            "5625/5625 - 20s - loss: 0.1360 - auc_1: 0.8369 - val_loss: 0.1313 - val_auc_1: 0.8523 - 20s/epoch - 4ms/step\n",
            "Epoch 4/20\n",
            "5625/5625 - 20s - loss: 0.1326 - auc_1: 0.8502 - val_loss: 0.1291 - val_auc_1: 0.8616 - 20s/epoch - 4ms/step\n",
            "Epoch 5/20\n",
            "5625/5625 - 21s - loss: 0.1306 - auc_1: 0.8570 - val_loss: 0.1277 - val_auc_1: 0.8648 - 21s/epoch - 4ms/step\n",
            "Epoch 6/20\n",
            "5625/5625 - 19s - loss: 0.1294 - auc_1: 0.8614 - val_loss: 0.1262 - val_auc_1: 0.8702 - 19s/epoch - 3ms/step\n",
            "Epoch 7/20\n",
            "5625/5625 - 19s - loss: 0.1285 - auc_1: 0.8642 - val_loss: 0.1258 - val_auc_1: 0.8713 - 19s/epoch - 3ms/step\n",
            "Epoch 8/20\n",
            "5625/5625 - 23s - loss: 0.1278 - auc_1: 0.8665 - val_loss: 0.1251 - val_auc_1: 0.8730 - 23s/epoch - 4ms/step\n",
            "Epoch 9/20\n",
            "5625/5625 - 19s - loss: 0.1270 - auc_1: 0.8689 - val_loss: 0.1247 - val_auc_1: 0.8746 - 19s/epoch - 3ms/step\n",
            "Epoch 10/20\n",
            "5625/5625 - 19s - loss: 0.1265 - auc_1: 0.8704 - val_loss: 0.1244 - val_auc_1: 0.8750 - 19s/epoch - 3ms/step\n",
            "Epoch 11/20\n",
            "5625/5625 - 19s - loss: 0.1261 - auc_1: 0.8713 - val_loss: 0.1243 - val_auc_1: 0.8765 - 19s/epoch - 3ms/step\n",
            "Epoch 12/20\n",
            "5625/5625 - 20s - loss: 0.1257 - auc_1: 0.8727 - val_loss: 0.1236 - val_auc_1: 0.8776 - 20s/epoch - 4ms/step\n",
            "Epoch 13/20\n",
            "5625/5625 - 20s - loss: 0.1255 - auc_1: 0.8735 - val_loss: 0.1237 - val_auc_1: 0.8774 - 20s/epoch - 3ms/step\n",
            "Epoch 14/20\n",
            "5625/5625 - 19s - loss: 0.1250 - auc_1: 0.8747 - val_loss: 0.1236 - val_auc_1: 0.8775 - 19s/epoch - 3ms/step\n",
            "Epoch 15/20\n",
            "5625/5625 - 19s - loss: 0.1248 - auc_1: 0.8756 - val_loss: 0.1235 - val_auc_1: 0.8785 - 19s/epoch - 3ms/step\n",
            "Epoch 16/20\n",
            "5625/5625 - 19s - loss: 0.1244 - auc_1: 0.8766 - val_loss: 0.1229 - val_auc_1: 0.8794 - 19s/epoch - 3ms/step\n",
            "Epoch 17/20\n",
            "5625/5625 - 19s - loss: 0.1242 - auc_1: 0.8771 - val_loss: 0.1229 - val_auc_1: 0.8798 - 19s/epoch - 3ms/step\n",
            "Epoch 18/20\n",
            "5625/5625 - 19s - loss: 0.1239 - auc_1: 0.8781 - val_loss: 0.1229 - val_auc_1: 0.8799 - 19s/epoch - 3ms/step\n",
            "Epoch 19/20\n",
            "5625/5625 - 19s - loss: 0.1237 - auc_1: 0.8784 - val_loss: 0.1229 - val_auc_1: 0.8795 - 19s/epoch - 3ms/step\n",
            "Epoch 20/20\n",
            "5625/5625 - 25s - loss: 0.1236 - auc_1: 0.8789 - val_loss: 0.1228 - val_auc_1: 0.8798 - 25s/epoch - 4ms/step\n"
          ]
        }
      ]
    },
    {
      "cell_type": "code",
      "source": [
        "import matplotlib.pyplot as plt\n",
        "\n",
        "def plot_graphs(history, string):\n",
        "  plt.plot(history.history[string])\n",
        "  plt.plot(history.history['val_'+string])\n",
        "  plt.xlabel(\"Epochs\")\n",
        "  plt.ylabel(string)\n",
        "  plt.legend([string, 'val_'+string])\n",
        "  plt.show()\n",
        "  \n",
        "plot_graphs(history, \"auc_1\")\n",
        "plot_graphs(history, \"loss\")"
      ],
      "metadata": {
        "colab": {
          "base_uri": "https://localhost:8080/",
          "height": 541
        },
        "id": "rBpahhPMggZK",
        "outputId": "4cf51bc4-c992-4f6d-d9ef-3a591d1bd5b6"
      },
      "execution_count": 95,
      "outputs": [
        {
          "output_type": "display_data",
          "data": {
            "text/plain": [
              "<Figure size 432x288 with 1 Axes>"
            ],
            "image/png": "[encoded data removed]"
          },
          "metadata": {
            "needs_background": "light"
          }
        },
        {
          "output_type": "display_data",
          "data": {
            "text/plain": [
              "<Figure size 432x288 with 1 Axes>"
            ],
            "image/png": "[encoded data removed]"
          },
          "metadata": {
            "needs_background": "light"
          }
        }
      ]
    },
    {
      "cell_type": "markdown",
      "source": [
        "We have here some good result. lets now see with other model than GlobalAveragePooling like bidirectional and with some callback layer as we saw during the class"
      ],
      "metadata": {
        "id": "w__MGZznhuuj"
      }
    },
    {
      "cell_type": "code",
      "source": [
        "from keras.layers import LSTM\n",
        "from keras.layers import Bidirectional"
      ],
      "metadata": {
        "id": "TkPmnw9dhtGy"
      },
      "execution_count": 96,
      "outputs": []
    },
    {
      "cell_type": "code",
      "source": [
        "model = tf.keras.Sequential([\n",
        "    tf.keras.layers.Embedding(vocab_size, embedding_dim, input_length=max_length),\n",
        "    tf.keras.layers.Bidirectional(LSTM(8, return_sequences=True)),\n",
        "    tf.keras.layers.GlobalAveragePooling1D(),\n",
        "    tf.keras.layers.Dense(24, activation='relu'),\n",
        "    tf.keras.layers.Dense(28 , activation='sigmoid')\n",
        "])\n",
        "\n",
        "model.compile(loss='binary_crossentropy',optimizer='adam',metrics=[tf.keras.metrics.AUC()])\n"
      ],
      "metadata": {
        "id": "TC2VX6fHioM1"
      },
      "execution_count": 97,
      "outputs": []
    },
    {
      "cell_type": "code",
      "source": [
        "from keras.callbacks import LearningRateScheduler\n",
        "\n",
        "def lr_scheduler(epoch, lr):\n",
        "    decay_rate = 0.1\n",
        "    decay_step = 90\n",
        "    if epoch % decay_step == 0 and epoch:\n",
        "        return lr * decay_rate\n",
        "    return lr\n",
        "callbacks = [\n",
        "    keras.callbacks.LearningRateScheduler(lr_scheduler, verbose=1)\n",
        "]\n",
        "callbacks = keras.callbacks.ModelCheckpoint(\"model_sparse.h5\", save_best_only=True)"
      ],
      "metadata": {
        "id": "fXxfyCf3j7Jq"
      },
      "execution_count": 99,
      "outputs": []
    },
    {
      "cell_type": "code",
      "source": [
        "num_epochs = 20\n",
        "history = model.fit(train_pad, train_feeling, epochs=num_epochs, callbacks = callbacks , validation_data=(test_pad, test_feeling), verbose=2)"
      ],
      "metadata": {
        "colab": {
          "base_uri": "https://localhost:8080/"
        },
        "id": "PtBih-sDkUpG",
        "outputId": "38781ee1-40a2-4bc0-974e-9bf84a41d21a"
      },
      "execution_count": 100,
      "outputs": [
        {
          "output_type": "stream",
          "name": "stdout",
          "text": [
            "Epoch 1/20\n",
            "5625/5625 - 170s - loss: 0.1559 - auc_2: 0.7659 - val_loss: 0.1427 - val_auc_2: 0.8058 - 170s/epoch - 30ms/step\n",
            "Epoch 2/20\n",
            "5625/5625 - 162s - loss: 0.1379 - auc_2: 0.8274 - val_loss: 0.1347 - val_auc_2: 0.8395 - 162s/epoch - 29ms/step\n",
            "Epoch 3/20\n",
            "5625/5625 - 158s - loss: 0.1314 - auc_2: 0.8520 - val_loss: 0.1308 - val_auc_2: 0.8528 - 158s/epoch - 28ms/step\n",
            "Epoch 4/20\n",
            "5625/5625 - 159s - loss: 0.1274 - auc_2: 0.8647 - val_loss: 0.1287 - val_auc_2: 0.8602 - 159s/epoch - 28ms/step\n",
            "Epoch 5/20\n",
            "5625/5625 - 174s - loss: 0.1246 - auc_2: 0.8735 - val_loss: 0.1272 - val_auc_2: 0.8647 - 174s/epoch - 31ms/step\n",
            "Epoch 6/20\n",
            "5625/5625 - 157s - loss: 0.1224 - auc_2: 0.8797 - val_loss: 0.1268 - val_auc_2: 0.8665 - 157s/epoch - 28ms/step\n",
            "Epoch 7/20\n",
            "5625/5625 - 159s - loss: 0.1206 - auc_2: 0.8846 - val_loss: 0.1260 - val_auc_2: 0.8690 - 159s/epoch - 28ms/step\n",
            "Epoch 8/20\n",
            "5625/5625 - 159s - loss: 0.1190 - auc_2: 0.8892 - val_loss: 0.1256 - val_auc_2: 0.8703 - 159s/epoch - 28ms/step\n",
            "Epoch 9/20\n",
            "5625/5625 - 166s - loss: 0.1175 - auc_2: 0.8931 - val_loss: 0.1254 - val_auc_2: 0.8719 - 166s/epoch - 29ms/step\n",
            "Epoch 10/20\n",
            "5625/5625 - 168s - loss: 0.1162 - auc_2: 0.8964 - val_loss: 0.1249 - val_auc_2: 0.8728 - 168s/epoch - 30ms/step\n",
            "Epoch 11/20\n",
            "5625/5625 - 164s - loss: 0.1152 - auc_2: 0.8987 - val_loss: 0.1250 - val_auc_2: 0.8726 - 164s/epoch - 29ms/step\n",
            "Epoch 12/20\n",
            "5625/5625 - 166s - loss: 0.1143 - auc_2: 0.9011 - val_loss: 0.1250 - val_auc_2: 0.8727 - 166s/epoch - 29ms/step\n",
            "Epoch 13/20\n",
            "5625/5625 - 167s - loss: 0.1135 - auc_2: 0.9032 - val_loss: 0.1252 - val_auc_2: 0.8728 - 167s/epoch - 30ms/step\n",
            "Epoch 14/20\n",
            "5625/5625 - 165s - loss: 0.1128 - auc_2: 0.9049 - val_loss: 0.1250 - val_auc_2: 0.8730 - 165s/epoch - 29ms/step\n",
            "Epoch 15/20\n",
            "5625/5625 - 166s - loss: 0.1121 - auc_2: 0.9065 - val_loss: 0.1252 - val_auc_2: 0.8728 - 166s/epoch - 30ms/step\n",
            "Epoch 16/20\n",
            "5625/5625 - 164s - loss: 0.1115 - auc_2: 0.9079 - val_loss: 0.1254 - val_auc_2: 0.8726 - 164s/epoch - 29ms/step\n",
            "Epoch 17/20\n",
            "5625/5625 - 167s - loss: 0.1109 - auc_2: 0.9092 - val_loss: 0.1254 - val_auc_2: 0.8722 - 167s/epoch - 30ms/step\n",
            "Epoch 18/20\n",
            "5625/5625 - 165s - loss: 0.1104 - auc_2: 0.9104 - val_loss: 0.1257 - val_auc_2: 0.8722 - 165s/epoch - 29ms/step\n",
            "Epoch 19/20\n",
            "5625/5625 - 161s - loss: 0.1099 - auc_2: 0.9115 - val_loss: 0.1260 - val_auc_2: 0.8721 - 161s/epoch - 29ms/step\n",
            "Epoch 20/20\n",
            "5625/5625 - 161s - loss: 0.1095 - auc_2: 0.9125 - val_loss: 0.1256 - val_auc_2: 0.8727 - 161s/epoch - 29ms/step\n"
          ]
        }
      ]
    },
    {
      "cell_type": "code",
      "source": [
        "import matplotlib.pyplot as plt\n",
        "\n",
        "def plot_graphs(history, string):\n",
        "  plt.plot(history.history[string])\n",
        "  plt.plot(history.history['val_'+string])\n",
        "  plt.xlabel(\"Epochs\")\n",
        "  plt.ylabel(string)\n",
        "  plt.legend([string, 'val_'+string])\n",
        "  plt.show()\n",
        "  \n",
        "plot_graphs(history, \"auc_2\")\n",
        "plot_graphs(history, \"loss\")"
      ],
      "metadata": {
        "colab": {
          "base_uri": "https://localhost:8080/",
          "height": 541
        },
        "id": "_-8PDs3Pkr8r",
        "outputId": "db8e11d7-5ca0-43f0-9a94-a5ef5ecd4477"
      },
      "execution_count": 101,
      "outputs": [
        {
          "output_type": "display_data",
          "data": {
            "text/plain": [
              "<Figure size 432x288 with 1 Axes>"
            ],
            "image/png": "[encoded data removed]"
          },
          "metadata": {
            "needs_background": "light"
          }
        },
        {
          "output_type": "display_data",
          "data": {
            "text/plain": [
              "<Figure size 432x288 with 1 Axes>"
            ],
            "image/png": "[encoded data removed]"
          },
          "metadata": {
            "needs_background": "light"
          }
        }
      ]
    },
    {
      "cell_type": "markdown",
      "source": [
        "We can see some overfitting with 20 epochs here , so lets try to put some dropout to delete it\n"
      ],
      "metadata": {
        "id": "G9tHlhWIxXE1"
      }
    },
    {
      "cell_type": "code",
      "source": [
        "model = tf.keras.Sequential([\n",
        "    tf.keras.layers.Embedding(vocab_size, embedding_dim, input_length=max_length),\n",
        "    tf.keras.layers.Bidirectional(LSTM(8, return_sequences=True)),\n",
        "    tf.keras.layers.GlobalAveragePooling1D(),\n",
        "    tf.keras.layers.Dropout(0.5),\n",
        "    tf.keras.layers.Dense(24, activation='relu'),\n",
        "    tf.keras.layers.Dense(28 , activation='sigmoid')\n",
        "])\n",
        "\n",
        "model.compile(loss='binary_crossentropy',optimizer='adam',metrics=[tf.keras.metrics.AUC()])\n"
      ],
      "metadata": {
        "id": "Ax3VPHC5kxpx"
      },
      "execution_count": 102,
      "outputs": []
    },
    {
      "cell_type": "code",
      "source": [
        "num_epochs = 20\n",
        "history = model.fit(train_pad, train_feeling, epochs=num_epochs, callbacks = callbacks , validation_data=(test_pad, test_feeling), verbose=2)"
      ],
      "metadata": {
        "colab": {
          "base_uri": "https://localhost:8080/"
        },
        "id": "CSwyCB9XnUMj",
        "outputId": "2b13fd00-1893-4811-fedc-a81581079958"
      },
      "execution_count": 103,
      "outputs": [
        {
          "output_type": "stream",
          "name": "stdout",
          "text": [
            "Epoch 1/20\n",
            "5625/5625 - 176s - loss: 0.1602 - auc_3: 0.7484 - val_loss: 0.1442 - val_auc_3: 0.8021 - 176s/epoch - 31ms/step\n",
            "Epoch 2/20\n",
            "5625/5625 - 163s - loss: 0.1435 - auc_3: 0.8086 - val_loss: 0.1401 - val_auc_3: 0.8210 - 163s/epoch - 29ms/step\n",
            "Epoch 3/20\n",
            "5625/5625 - 161s - loss: 0.1397 - auc_3: 0.8254 - val_loss: 0.1372 - val_auc_3: 0.8322 - 161s/epoch - 29ms/step\n",
            "Epoch 4/20\n",
            "5625/5625 - 159s - loss: 0.1372 - auc_3: 0.8350 - val_loss: 0.1353 - val_auc_3: 0.8389 - 159s/epoch - 28ms/step\n",
            "Epoch 5/20\n",
            "5625/5625 - 158s - loss: 0.1350 - auc_3: 0.8421 - val_loss: 0.1333 - val_auc_3: 0.8448 - 158s/epoch - 28ms/step\n",
            "Epoch 6/20\n",
            "5625/5625 - 157s - loss: 0.1329 - auc_3: 0.8486 - val_loss: 0.1315 - val_auc_3: 0.8511 - 157s/epoch - 28ms/step\n",
            "Epoch 7/20\n",
            "5625/5625 - 158s - loss: 0.1314 - auc_3: 0.8543 - val_loss: 0.1308 - val_auc_3: 0.8538 - 158s/epoch - 28ms/step\n",
            "Epoch 8/20\n",
            "5625/5625 - 163s - loss: 0.1301 - auc_3: 0.8586 - val_loss: 0.1300 - val_auc_3: 0.8569 - 163s/epoch - 29ms/step\n",
            "Epoch 9/20\n",
            "5625/5625 - 159s - loss: 0.1292 - auc_3: 0.8618 - val_loss: 0.1292 - val_auc_3: 0.8595 - 159s/epoch - 28ms/step\n",
            "Epoch 10/20\n",
            "5625/5625 - 159s - loss: 0.1282 - auc_3: 0.8651 - val_loss: 0.1288 - val_auc_3: 0.8607 - 159s/epoch - 28ms/step\n",
            "Epoch 11/20\n",
            "5625/5625 - 162s - loss: 0.1275 - auc_3: 0.8673 - val_loss: 0.1285 - val_auc_3: 0.8623 - 162s/epoch - 29ms/step\n",
            "Epoch 12/20\n",
            "5625/5625 - 165s - loss: 0.1267 - auc_3: 0.8697 - val_loss: 0.1283 - val_auc_3: 0.8624 - 165s/epoch - 29ms/step\n",
            "Epoch 13/20\n",
            "5625/5625 - 161s - loss: 0.1263 - auc_3: 0.8709 - val_loss: 0.1283 - val_auc_3: 0.8627 - 161s/epoch - 29ms/step\n",
            "Epoch 14/20\n",
            "5625/5625 - 158s - loss: 0.1257 - auc_3: 0.8727 - val_loss: 0.1281 - val_auc_3: 0.8634 - 158s/epoch - 28ms/step\n",
            "Epoch 15/20\n",
            "5625/5625 - 156s - loss: 0.1253 - auc_3: 0.8738 - val_loss: 0.1280 - val_auc_3: 0.8637 - 156s/epoch - 28ms/step\n",
            "Epoch 16/20\n",
            "5625/5625 - 160s - loss: 0.1249 - auc_3: 0.8749 - val_loss: 0.1278 - val_auc_3: 0.8640 - 160s/epoch - 28ms/step\n",
            "Epoch 17/20\n",
            "5625/5625 - 157s - loss: 0.1246 - auc_3: 0.8758 - val_loss: 0.1282 - val_auc_3: 0.8630 - 157s/epoch - 28ms/step\n",
            "Epoch 18/20\n",
            "5625/5625 - 156s - loss: 0.1241 - auc_3: 0.8770 - val_loss: 0.1279 - val_auc_3: 0.8638 - 156s/epoch - 28ms/step\n",
            "Epoch 19/20\n",
            "5625/5625 - 160s - loss: 0.1239 - auc_3: 0.8774 - val_loss: 0.1279 - val_auc_3: 0.8639 - 160s/epoch - 28ms/step\n",
            "Epoch 20/20\n",
            "5625/5625 - 160s - loss: 0.1236 - auc_3: 0.8781 - val_loss: 0.1280 - val_auc_3: 0.8636 - 160s/epoch - 28ms/step\n"
          ]
        }
      ]
    },
    {
      "cell_type": "code",
      "source": [
        "import matplotlib.pyplot as plt\n",
        "\n",
        "def plot_graphs(history, string):\n",
        "  plt.plot(history.history[string])\n",
        "  plt.plot(history.history['val_'+string])\n",
        "  plt.xlabel(\"Epochs\")\n",
        "  plt.ylabel(string)\n",
        "  plt.legend([string, 'val_'+string])\n",
        "  plt.show()\n",
        "  \n",
        "plot_graphs(history, \"auc_3\")\n",
        "plot_graphs(history, \"loss\")"
      ],
      "metadata": {
        "colab": {
          "base_uri": "https://localhost:8080/",
          "height": 541
        },
        "id": "XkKMywMInWKs",
        "outputId": "f3afd573-e03a-493b-9053-190ccfc182e6"
      },
      "execution_count": 104,
      "outputs": [
        {
          "output_type": "display_data",
          "data": {
            "text/plain": [
              "<Figure size 432x288 with 1 Axes>"
            ],
            "image/png": "[encoded data removed]"
          },
          "metadata": {
            "needs_background": "light"
          }
        },
        {
          "output_type": "display_data",
          "data": {
            "text/plain": [
              "<Figure size 432x288 with 1 Axes>"
            ],
            "image/png": "[encoded data removed]"
          },
          "metadata": {
            "needs_background": "light"
          }
        }
      ]
    },
    {
      "cell_type": "markdown",
      "source": [
        "here with the dropout , we have a less overfitting function and have around 88% accuracy wich is pretty correct for this model and the guess of feeling for text as there is multiple feelings for certains text as said in the documentation of the dataset"
      ],
      "metadata": {
        "id": "fwBMVpy8-HBL"
      }
    }
  ]
}